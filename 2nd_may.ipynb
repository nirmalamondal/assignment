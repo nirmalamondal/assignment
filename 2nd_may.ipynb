{
 "cells": [
  {
   "cell_type": "code",
   "execution_count": null,
   "id": "5b6d1b0b-4223-4e43-8a5e-844242062afd",
   "metadata": {},
   "outputs": [],
   "source": [
    "Q1. What is anomaly detection and what is its purpose?\n",
    "'''\n",
    "Anomaly detection is the identification of patterns or instances that do not conform to expected behavior within a dataset. Its purpose is to discover\n",
    "and flag unusual occurrences or deviations from normal patterns that could be indicative of outliers, anomalies, or potential threats in various\n",
    "domains.\n",
    "'''\n",
    "Q2. What are the key challenges in anomaly detection?\n",
    "'''\n",
    "Scarcity of anomalies: Anomalies are often rare, making them challenging to detect, especially in large datasets.\n",
    "Imbalanced datasets: Anomalies may be severely outnumbered by normal instances, leading to biased model performance.\n",
    "Adaptability to changing patterns: Anomalies might evolve or change over time, requiring models to adapt and update continuously.\n",
    "Feature engineering: Selecting relevant features for effective anomaly detection is crucial but challenging.\n",
    "Labeling and evaluation: The absence of labeled anomaly data makes evaluation and validation more complex.\n",
    "'''\n",
    "Q3. How does unsupervised anomaly detection differ from supervised anomaly detection?\n",
    "'''\n",
    "Unsupervised anomaly detection: It doesn't rely on labeled anomaly data. It aims to identify outliers or anomalies based on the data's inherent \n",
    "structure or patterns without explicit anomaly labels.\n",
    "Supervised anomaly detection: Requires labeled data with anomalies identified. It involves training a model to classify data points as normal or \n",
    "anomalous based on the labeled training set.\n",
    "'''\n",
    "Q4. What are the main categories of anomaly detection algorithms?\n",
    "'''\n",
    "Statistical methods: Utilize statistical properties to identify deviations from normal behavior.\n",
    "Machine learning-based methods: Employ algorithms like isolation forests, one-class SVM, k-nearest neighbors, LOF, etc.\n",
    "Rule-based methods: Define rules to flag anomalies based on specific criteria or thresholds.\n",
    "'''\n",
    "Q5. What are the main assumptions made by distance-based anomaly detection methods?\n",
    "'''\n",
    "Main assumptions: Distance-based methods assume that anomalies are far from normal instances in the feature space.\n",
    "Assumption implications: Anomalies are identified based on their distance from normal instances, assuming they lie in sparser regions of the feature \n",
    "space.\n",
    "'''\n",
    "Q6. How does the LOF algorithm compute anomaly scores?\n",
    "'''\n",
    "LOF (Local Outlier Factor): Calculates the local density of a data point relative to its neighbors. Anomaly scores are computed based on the ratio of\n",
    "a point's local density to the local densities of its neighbors. Higher LOF scores indicate greater deviation from neighboring points.\n",
    "'''\n",
    "Q7. What are the key parameters of the Isolation Forest algorithm?\n",
    "'''\n",
    "Key parameters: Number of trees in the forest (n_estimators), maximum depth of trees (max_depth), and subsampling size (max_samples).\n",
    "'''\n",
    "Q8. If a data point has only 2 neighbours of the same class within a radius of 0.5, what is its anomaly score using KNN with K=10?\n",
    "'''\n",
    "The anomaly score using KNN is determined based on the distance to the 10th nearest neighbor. If a data point has only 2 neighbors within a radius of\n",
    "0.5, the anomaly score may be high as it doesn’t have enough neighbors within the specified radius, suggesting isolation or potential anomaly status.\n",
    "'''\n",
    "Q9. Using the Isolation Forest algorithm with 100 trees and a dataset of 3000 data points, what is the\n",
    "anomaly score for a data point that has an average path length of 5.0 compared to the average path length of the trees?\n",
    "'''\n",
    "An average path length of 5.0 for a data point in an Isolation Forest with 100 trees suggests that the point's anomaly score is relatively low. A\n",
    "lower average path length indicates that the point is isolated in fewer steps across the trees, indicating a higher probability of being an anomaly \n",
    "or outlier.\n",
    "'''"
   ]
  }
 ],
 "metadata": {
  "kernelspec": {
   "display_name": "Python 3 (ipykernel)",
   "language": "python",
   "name": "python3"
  },
  "language_info": {
   "codemirror_mode": {
    "name": "ipython",
    "version": 3
   },
   "file_extension": ".py",
   "mimetype": "text/x-python",
   "name": "python",
   "nbconvert_exporter": "python",
   "pygments_lexer": "ipython3",
   "version": "3.10.8"
  }
 },
 "nbformat": 4,
 "nbformat_minor": 5
}
