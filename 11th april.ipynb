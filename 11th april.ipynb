{
 "cells": [
  {
   "cell_type": "code",
   "execution_count": null,
   "id": "f602468c-2811-45be-badd-491aa5c67943",
   "metadata": {},
   "outputs": [],
   "source": [
    "Q1. What is an ensemble technique in machine learning?\n",
    "'''\n",
    "Ensemble techniques refer to the method of combining multiple models to make more accurate predictions compared to individual models. These models can\n",
    "be of the same type (homogeneous) or different types (heterogeneous), and their predictions are aggregated in various ways to produce a final\n",
    "prediction.\n",
    "'''\n",
    "Q2. Why are ensemble techniques used in machine learning?\n",
    "'''\n",
    "Ensemble techniques are used in machine learning because they often improve predictive accuracy, reduce overfitting, and increase robustness compared\n",
    "to single models. By combining multiple models, the weaknesses of individual models can be mitigated, resulting in better overall performance.\n",
    "'''\n",
    "Q3. What is bagging?\n",
    "\n",
    "'''\n",
    "Bagging (Bootstrap Aggregating) is an ensemble technique where multiple models (typically the same type) are trained on different subsets of the \n",
    "training data. These subsets are created by bootstrapping, a resampling technique that involves randomly sampling the data with replacement. Bagging \n",
    "helps to reduce variance and improve model accuracy by combining predictions from multiple models through averaging or voting.\n",
    "'''\n",
    "Q4. What is boosting?\n",
    "'''\n",
    "Boosting is an ensemble technique where models are built sequentially, and each subsequent model focuses on improving the weaknesses of the previous \n",
    "ones. It assigns higher weights to misclassified instances, allowing the subsequent models to concentrate more on those cases. Boosting aims to \n",
    "create a strong model by combining weak learners iteratively.\n",
    "'''\n",
    "Q5. What are the benefits of using ensemble techniques?\n",
    "'''\n",
    "Improved predictive performance\n",
    "Reduction in overfitting\n",
    "Increased model robustness\n",
    "Handling complex relationships in data more effectively\n",
    "Resilience to noisy data and outliers\n",
    "'''\n",
    "Q6. Are ensemble techniques always better than individual models?\n",
    "'''\n",
    "Ensemble techniques often outperform individual models in terms of predictive accuracy and generalization. However, there can be scenarios where\n",
    "using ensemble methods might not yield better results, especially if the base models are already very strong and diverse, or if the data is too small\n",
    "to derive benefits from ensemble techniques.\n",
    "'''\n",
    "Q7. How is the confidence interval calculated using bootstrap?\n",
    "'''\n",
    "The confidence interval using bootstrap is calculated by repeatedly resampling the observed data (with replacement) to create multiple bootstrap\n",
    "samples. For each bootstrap sample, compute the statistic of interest (e.g., mean) and then use the percentiles of these statistics across the \n",
    "bootstrap samples to estimate the confidence interval.\n",
    "'''\n",
    "Q8. How does bootstrap work and What are the steps involved in bootstrap?\n",
    "'''\n",
    "Bootstrap is a resampling technique used to estimate the sampling distribution of a statistic by repeatedly resampling the observed data with \n",
    "replacement. The steps involved in bootstrap are:\n",
    "\n",
    "Draw a random sample (with replacement) of the same size as the original dataset.\n",
    "Calculate the statistic of interest (e.g., mean, standard deviation) from the resampled data.\n",
    "Repeat this process a large number of times (e.g., thousands) to create multiple bootstrap samples.\n",
    "Use the distribution of the calculated statistics to estimate confidence intervals or other parameters.\n",
    "'''\n"
   ]
  },
  {
   "cell_type": "code",
   "execution_count": 1,
   "id": "6a3ee425-8ada-469d-b95b-4fb97081994c",
   "metadata": {},
   "outputs": [
    {
     "name": "stdout",
     "output_type": "stream",
     "text": [
      "Estimated 95% Confidence Interval for the population mean height: [14.21973162 15.77678624]\n"
     ]
    }
   ],
   "source": [
    "'''Q9. A researcher wants to estimate the mean height of a population of trees. They measure the height of a sample of 50 trees and obtain a mean height \n",
    "of 15 meters and a standard deviation of 2 meters. Use bootstrap to estimate the 95% confidence interval for the population mean height.'''\n",
    "import numpy as np\n",
    "\n",
    "sample_mean = 15  # Mean height of the sample\n",
    "sample_std = 2     # Standard deviation of the sample\n",
    "sample_size = 50   # Sample size\n",
    "\n",
    "# Number of bootstrap samples to generate\n",
    "num_bootstrap_samples = 10000\n",
    "\n",
    "def generate_bootstrap_sample(data, size):\n",
    "    return np.random.choice(data, size=size, replace=True)\n",
    "\n",
    "# Generating bootstrap samples and calculating mean heights\n",
    "bootstrap_means = []\n",
    "for i in range(num_bootstrap_samples):\n",
    "    bootstrap_sample = generate_bootstrap_sample(data=np.random.normal(sample_mean, sample_std, sample_size), size=sample_size)\n",
    "    bootstrap_means.append(np.mean(bootstrap_sample))\n",
    "\n",
    "# Calculating the confidence interval (2.5th and 97.5th percentiles)\n",
    "confidence_interval = np.percentile(bootstrap_means, [2.5, 97.5])\n",
    "\n",
    "print(f\"Estimated 95% Confidence Interval for the population mean height: {confidence_interval}\")\n"
   ]
  },
  {
   "cell_type": "code",
   "execution_count": null,
   "id": "a8c25b5c-741b-46be-87d8-d1be9a833745",
   "metadata": {},
   "outputs": [],
   "source": []
  }
 ],
 "metadata": {
  "kernelspec": {
   "display_name": "Python 3 (ipykernel)",
   "language": "python",
   "name": "python3"
  },
  "language_info": {
   "codemirror_mode": {
    "name": "ipython",
    "version": 3
   },
   "file_extension": ".py",
   "mimetype": "text/x-python",
   "name": "python",
   "nbconvert_exporter": "python",
   "pygments_lexer": "ipython3",
   "version": "3.10.8"
  }
 },
 "nbformat": 4,
 "nbformat_minor": 5
}
