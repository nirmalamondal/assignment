{
 "cells": [
  {
   "cell_type": "code",
   "execution_count": null,
   "id": "afd4e5e5-0bfa-4f08-8778-cd867b3b2358",
   "metadata": {},
   "outputs": [],
   "source": [
    "Q1. What is meant by time-dependent seasonal components?\n",
    "'''\n",
    "These are seasonal patterns in a time series that can change over time, meaning the amplitude or frequency of the seasonal pattern varies across \n",
    "different periods.\n",
    "'''\n",
    "Q2. How can time-dependent seasonal components be identified in time series data?\n",
    "'''\n",
    "Using decomposition techniques like STL decomposition (Seasonal and Trend decomposition using Loess) or visual analysis through plotting the data over\n",
    "time.\n",
    "'''\n",
    "Q3. What are the factors that can influence time-dependent seasonal components?\n",
    "'''\n",
    "Changes in consumer behavior, market trends, technological advancements, economic shifts, cultural events, policy changes, and environmental factors \n",
    "can influence time-dependent seasonal components.\n",
    "'''\n",
    "Q4. How are autoregression models used in time series analysis and forecasting?\n",
    "'''\n",
    "They use past observations to predict future values in a time series. AR models predict the future value of a variable based on its own past values\n",
    "and a stochastic term.\n",
    "'''\n",
    "Q5. How do you use autoregression models to make predictions for future time points?\n",
    "'''\n",
    "Predicts future values of a variable by regressing it against its own lagged (past) values. For instance, in an AR(p) model, the value at time t\n",
    "depends on the values at times t-1, t-2, ..., t-p.\n",
    "'''\n",
    "Q6. What is a moving average (MA) model and how does it differ from other time series models?\n",
    "'''\n",
    "Moving Average (MA) model: It models a time series based on past prediction errors. The value at a certain time is a linear combination of current and \n",
    "past error terms.\n",
    "\n",
    "MA models consider only past errors, while autoregressive models (AR) consider past values of the series itself.\n",
    "'''\n",
    "Q7. What is a mixed ARMA model and how does it differ from an AR or MA model?\n",
    "'''\n",
    "Mixed ARMA (Autoregressive Moving Average) model: Combines both autoregressive (AR) and moving average (MA) components in a single model.\n",
    "\n",
    "AR models use the past values of the series, MA models use past errors, while ARMA combines both autoregressive and \n",
    "moving average terms to capture dependencies in the series.\n",
    "'''"
   ]
  }
 ],
 "metadata": {
  "kernelspec": {
   "display_name": "Python 3 (ipykernel)",
   "language": "python",
   "name": "python3"
  },
  "language_info": {
   "codemirror_mode": {
    "name": "ipython",
    "version": 3
   },
   "file_extension": ".py",
   "mimetype": "text/x-python",
   "name": "python",
   "nbconvert_exporter": "python",
   "pygments_lexer": "ipython3",
   "version": "3.10.8"
  }
 },
 "nbformat": 4,
 "nbformat_minor": 5
}
