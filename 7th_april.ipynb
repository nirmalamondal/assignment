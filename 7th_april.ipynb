{
 "cells": [
  {
   "cell_type": "code",
   "execution_count": null,
   "id": "d8c2a68c-65a4-4df7-98ca-1fb6c540d5cb",
   "metadata": {},
   "outputs": [],
   "source": [
    "Q1.What is the relationship between polynomial functions and kernel functions in machine learning algorithms?\n",
    "\"\"\"\n",
    "Polynomial functions:\n",
    "Polynomial functions are mathematical functions that involve terms with positive integer exponents, such as x^2, x^3, x^4, etc. In the context of machine learning, polynomial functions are often used to generate additional features from the original data by raising the input features (x) to various powers. For example, given a single input feature x, a polynomial function of degree 2 can create additional features like x^2. This transformation allows linear algorithms to handle non-linear relationships in the data, effectively extending the feature space.\n",
    "Kernel functions, in the context of machine learning, are used in algorithms like Support Vector Machines (SVMs) and the kernelized version of Principal Component Analysis (PCA) to implicitly map data into a higher-dimensional feature space. The key idea behind kernel functions is that instead of explicitly calculating the transformed features, they directly compute the dot product between the transformed data points in the higher-dimensional space. This is computationally efficient and avoids the need to store the actual transformed feature vectors.\n",
    "\"\"\""
   ]
  },
  {
   "cell_type": "code",
   "execution_count": 24,
   "id": "6bff8911-7b45-40e3-a10e-fdd7c8cef069",
   "metadata": {},
   "outputs": [
    {
     "name": "stdout",
     "output_type": "stream",
     "text": [
      "Accuracy: 0.88\n"
     ]
    }
   ],
   "source": [
    "#Q2. How can we implement an SVM with a polynomial kernel in Python using Scikit-learn?\n",
    "\"\"\"\n",
    "Implementing an SVM with a polynomial kernel in Python using Scikit-learn is straightforward. Scikit-learn provides a high-level interface for various machine learning algorithms, including SVMs with different kernels. To use the polynomial kernel, you need to specify the kernel type as 'poly'.\n",
    "\"\"\"\n",
    "import numpy as np\n",
    "from sklearn.svm import SVC\n",
    "from sklearn.datasets import make_classification\n",
    "from sklearn.model_selection import train_test_split\n",
    "from sklearn.metrics import accuracy_score\n",
    "\n",
    "\n",
    "X, y = make_classification(n_samples=1000, n_features=2, n_informative=2, n_redundant=0, random_state=42)\n",
    "X_train, X_test, y_train, y_test = train_test_split(X, y, test_size=0.2, random_state=42)\n",
    "svm_classifier = SVC(kernel='poly', degree=3, random_state=42)\n",
    "\n",
    "svm_classifier.fit(X_train, y_train)\n",
    "\n",
    "y_pred = svm_classifier.predict(X_test)\n",
    "\n",
    "accuracy = accuracy_score(y_test, y_pred)\n",
    "print(\"Accuracy:\", accuracy)\n"
   ]
  },
  {
   "cell_type": "code",
   "execution_count": null,
   "id": "e1ee4d90-cd2d-40f6-a25e-6c81c72b0473",
   "metadata": {},
   "outputs": [],
   "source": [
    "#Q3. How does increasing the value of epsilon affect the number of support vectors in SVR?\n",
    "\"\"\"\n",
    "Smaller epsilon (tight margin):\n",
    "When epsilon is small, the ε-insensitive tube is narrow, and the SVR model tries to fit the training data more precisely. This means that fewer data points can be inside the tube, and more data points are likely to lie on the margin or outside it. Consequently, the SVR model may need to use more support vectors to capture the training data with higher accuracy.\n",
    "\n",
    "Larger epsilon (wider margin):\n",
    "Conversely, when epsilon is large, the ε-insensitive tube is wider, allowing more data points to be inside the tube without affecting the loss function. In this case, the SVR model has more flexibility, and it can tolerate larger errors for data points that fall inside the tube. As a result, fewer data points are required to be support vectors, and the model may choose to have a sparser set of support vectors.\n",
    "\n",
    "So, in summary, increasing the value of epsilon in SVR tends to reduce the number of support vectors as it allows for a wider margin, making the model more tolerant to errors for data points that lie within the ε-insensitive tube. However, it is essential to tune the epsilon parameter carefully as it can influence the model's generalization performance and trade-off between accuracy and complexity. The optimal value of epsilon should be determined through cross-validation and grid search techniques to achieve the best model performance for a specific problem.\n",
    "\"\"\""
   ]
  },
  {
   "cell_type": "code",
   "execution_count": null,
   "id": "764bd3ee-61b3-4688-b9e5-8e7c8cc9b876",
   "metadata": {},
   "outputs": [],
   "source": [
    "\"\"\"Q4. How does the choice of kernel function, C parameter, epsilon parameter, and gamma parameter\n",
    "affect the performance of Support Vector Regression (SVR)? Can you explain how each parameter works\n",
    "and provide examples of when you might want to increase or decrease its value?\"\"\"\n",
    "\n",
    "\"\"\"\n",
    "Choice of Kernel Function:\n",
    "The kernel function is a critical component of SVR as it determines how the data is transformed into a higher-dimensional feature space. Different kernel functions are suitable for different types of data and decision boundaries.\n",
    "a. Linear Kernel: The linear kernel doesn't transform the data; it operates directly in the original feature space. It is suitable for linearly separable data and problems where a linear decision boundary is appropriate.\n",
    "\n",
    "b. Polynomial Kernel: The polynomial kernel transforms the data into a higher-dimensional feature space using a polynomial function. The degree of the polynomial is determined by the 'degree' parameter. It is useful when the data has non-linear relationships, and a polynomial decision boundary is more appropriate.\n",
    "\n",
    "c. Radial Basis Function (RBF) Kernel: The RBF kernel transforms the data into an infinite-dimensional feature space using a Gaussian radial basis function. It is widely used for non-linear problems as it can model complex decision boundaries. The 'gamma' parameter controls the width of the RBF kernel.\n",
    "\n",
    "C Parameter (Regularization):\n",
    "The C parameter in SVR is the regularization parameter, also known as the penalty parameter. It controls the trade-off between maximizing the margin (i.e., finding a wider margin) and minimizing the training error. A larger C value means a smaller regularization effect, allowing the model to fit the training data more precisely. On the other hand, a smaller C value increases the regularization effect, making the model more tolerant to errors but may result in a wider margin.\n",
    "Increase C: Use a larger C when you have a small number of noisy or outlier data points and you want the model to fit them precisely. Be cautious, as increasing C too much may lead to overfitting.\n",
    "\n",
    "Decrease C: Use a smaller C when you have a large number of data points, or when you want a simpler model with a wider margin that is more robust to noise and outliers.\n",
    "\n",
    "Epsilon Parameter:\n",
    "The epsilon parameter (ε) is the width of the ε-insensitive tube in SVR. Data points within this tube are considered correctly predicted and do not contribute to the loss function. Larger values of epsilon result in a wider tube, allowing more data points to be within the tube without affecting the model's loss.\n",
    "Increase epsilon: Use a larger epsilon when you have noisy data or when you want the model to be more tolerant to errors. This can result in a model with more support vectors and a wider margin.\n",
    "\n",
    "Decrease epsilon: Use a smaller epsilon when you want the model to be more sensitive to errors and strictly fit the data within a narrow margin. This can lead to a model with fewer support vectors and a narrower margin.\n",
    "\n",
    "Gamma Parameter:\n",
    "The gamma parameter is specific to the RBF kernel. It determines the influence of a single training example and controls the shape of the decision boundary. A small gamma value leads to a broader decision boundary, while a large gamma value results in a more complex and narrower decision boundary.\n",
    "Increase gamma: Use a larger gamma value when you have a small number of data points and want a more complex, non-linear decision boundary. Be cautious, as a very large gamma can lead to overfitting.\n",
    "\n",
    "Decrease gamma: Use a smaller gamma value when you have a large dataset or want a smoother decision boundary with more generalization ability.\n",
    "\"\"\""
   ]
  },
  {
   "cell_type": "code",
   "execution_count": 1,
   "id": "c2c3b080-f9b3-4f4a-bdcf-5339250aca4c",
   "metadata": {},
   "outputs": [],
   "source": [
    "\"\"\"\n",
    "\n",
    "\n",
    "\n",
    "Q5. Assignment:\n",
    "Import the necessary libraries and load the dataset\n",
    "Split the dataset into training and testing set\n",
    "Preprocess the data using any technique of your choice (e.g. scaling, normalization\n",
    "Create an instance of the SVC classifier and train it on the training data\n",
    "use the trained classifier to predict the labels of the testing data\n",
    "Evaluate the performance of the classifier using any metric of your choice (e.g. accuracy,\n",
    "precision, recall, F1-scoreK\n",
    " Tune the hyperparameters of the SVC classifier using GridSearchCV or RandomiMedSearchCV to\n",
    "improve its performanc_\n",
    " Train the tuned classifier on the entire dataset\n",
    "Save the trained classifier to a file for future use.\n",
    "\"\"\"\n",
    "\n",
    "import pandas as pd\n",
    "import numpy as np\n",
    "import seaborn as sns\n",
    "import matplotlib.pyplot as plt\n"
   ]
  },
  {
   "cell_type": "code",
   "execution_count": 2,
   "id": "6935b3c9-e065-4031-ab24-67697974d8e5",
   "metadata": {},
   "outputs": [],
   "source": [
    "from sklearn.datasets import make_classification\n",
    "X2,y2 = make_classification(n_samples= 1000,n_features = 2,n_classes = 2,n_clusters_per_class = 2,n_redundant=0)"
   ]
  },
  {
   "cell_type": "code",
   "execution_count": 3,
   "id": "54c86da5-e79f-486e-879f-d2a5b599df71",
   "metadata": {},
   "outputs": [],
   "source": [
    "from sklearn.model_selection import train_test_split\n",
    "X2_train,X2_test,y2_train,y2_test = train_test_split(X2,y2,test_size = 0.3,random_state = 42)"
   ]
  },
  {
   "cell_type": "code",
   "execution_count": 4,
   "id": "40d24719-9c63-4088-9799-579aa08465cc",
   "metadata": {},
   "outputs": [],
   "source": [
    "from sklearn.preprocessing import StandardScaler\n",
    "scaler = StandardScaler()\n",
    "X2_scaled_train = scaler.fit_transform(X2_train)\n",
    "X2_scaled_test = scaler.fit_transform(X2_test)"
   ]
  },
  {
   "cell_type": "code",
   "execution_count": 5,
   "id": "f0d1d491-b36b-44e2-b3da-771816ac3bf6",
   "metadata": {},
   "outputs": [],
   "source": [
    "from sklearn.svm import SVC\n",
    "classifier = SVC()"
   ]
  },
  {
   "cell_type": "code",
   "execution_count": 6,
   "id": "704652ec-59fa-4699-bef7-a477da8b790d",
   "metadata": {},
   "outputs": [
    {
     "data": {
      "text/html": [
       "<style>#sk-container-id-1 {color: black;background-color: white;}#sk-container-id-1 pre{padding: 0;}#sk-container-id-1 div.sk-toggleable {background-color: white;}#sk-container-id-1 label.sk-toggleable__label {cursor: pointer;display: block;width: 100%;margin-bottom: 0;padding: 0.3em;box-sizing: border-box;text-align: center;}#sk-container-id-1 label.sk-toggleable__label-arrow:before {content: \"▸\";float: left;margin-right: 0.25em;color: #696969;}#sk-container-id-1 label.sk-toggleable__label-arrow:hover:before {color: black;}#sk-container-id-1 div.sk-estimator:hover label.sk-toggleable__label-arrow:before {color: black;}#sk-container-id-1 div.sk-toggleable__content {max-height: 0;max-width: 0;overflow: hidden;text-align: left;background-color: #f0f8ff;}#sk-container-id-1 div.sk-toggleable__content pre {margin: 0.2em;color: black;border-radius: 0.25em;background-color: #f0f8ff;}#sk-container-id-1 input.sk-toggleable__control:checked~div.sk-toggleable__content {max-height: 200px;max-width: 100%;overflow: auto;}#sk-container-id-1 input.sk-toggleable__control:checked~label.sk-toggleable__label-arrow:before {content: \"▾\";}#sk-container-id-1 div.sk-estimator input.sk-toggleable__control:checked~label.sk-toggleable__label {background-color: #d4ebff;}#sk-container-id-1 div.sk-label input.sk-toggleable__control:checked~label.sk-toggleable__label {background-color: #d4ebff;}#sk-container-id-1 input.sk-hidden--visually {border: 0;clip: rect(1px 1px 1px 1px);clip: rect(1px, 1px, 1px, 1px);height: 1px;margin: -1px;overflow: hidden;padding: 0;position: absolute;width: 1px;}#sk-container-id-1 div.sk-estimator {font-family: monospace;background-color: #f0f8ff;border: 1px dotted black;border-radius: 0.25em;box-sizing: border-box;margin-bottom: 0.5em;}#sk-container-id-1 div.sk-estimator:hover {background-color: #d4ebff;}#sk-container-id-1 div.sk-parallel-item::after {content: \"\";width: 100%;border-bottom: 1px solid gray;flex-grow: 1;}#sk-container-id-1 div.sk-label:hover label.sk-toggleable__label {background-color: #d4ebff;}#sk-container-id-1 div.sk-serial::before {content: \"\";position: absolute;border-left: 1px solid gray;box-sizing: border-box;top: 0;bottom: 0;left: 50%;z-index: 0;}#sk-container-id-1 div.sk-serial {display: flex;flex-direction: column;align-items: center;background-color: white;padding-right: 0.2em;padding-left: 0.2em;position: relative;}#sk-container-id-1 div.sk-item {position: relative;z-index: 1;}#sk-container-id-1 div.sk-parallel {display: flex;align-items: stretch;justify-content: center;background-color: white;position: relative;}#sk-container-id-1 div.sk-item::before, #sk-container-id-1 div.sk-parallel-item::before {content: \"\";position: absolute;border-left: 1px solid gray;box-sizing: border-box;top: 0;bottom: 0;left: 50%;z-index: -1;}#sk-container-id-1 div.sk-parallel-item {display: flex;flex-direction: column;z-index: 1;position: relative;background-color: white;}#sk-container-id-1 div.sk-parallel-item:first-child::after {align-self: flex-end;width: 50%;}#sk-container-id-1 div.sk-parallel-item:last-child::after {align-self: flex-start;width: 50%;}#sk-container-id-1 div.sk-parallel-item:only-child::after {width: 0;}#sk-container-id-1 div.sk-dashed-wrapped {border: 1px dashed gray;margin: 0 0.4em 0.5em 0.4em;box-sizing: border-box;padding-bottom: 0.4em;background-color: white;}#sk-container-id-1 div.sk-label label {font-family: monospace;font-weight: bold;display: inline-block;line-height: 1.2em;}#sk-container-id-1 div.sk-label-container {text-align: center;}#sk-container-id-1 div.sk-container {/* jupyter's `normalize.less` sets `[hidden] { display: none; }` but bootstrap.min.css set `[hidden] { display: none !important; }` so we also need the `!important` here to be able to override the default hidden behavior on the sphinx rendered scikit-learn.org. See: https://github.com/scikit-learn/scikit-learn/issues/21755 */display: inline-block !important;position: relative;}#sk-container-id-1 div.sk-text-repr-fallback {display: none;}</style><div id=\"sk-container-id-1\" class=\"sk-top-container\"><div class=\"sk-text-repr-fallback\"><pre>SVC()</pre><b>In a Jupyter environment, please rerun this cell to show the HTML representation or trust the notebook. <br />On GitHub, the HTML representation is unable to render, please try loading this page with nbviewer.org.</b></div><div class=\"sk-container\" hidden><div class=\"sk-item\"><div class=\"sk-estimator sk-toggleable\"><input class=\"sk-toggleable__control sk-hidden--visually\" id=\"sk-estimator-id-1\" type=\"checkbox\" checked><label for=\"sk-estimator-id-1\" class=\"sk-toggleable__label sk-toggleable__label-arrow\">SVC</label><div class=\"sk-toggleable__content\"><pre>SVC()</pre></div></div></div></div></div>"
      ],
      "text/plain": [
       "SVC()"
      ]
     },
     "execution_count": 6,
     "metadata": {},
     "output_type": "execute_result"
    }
   ],
   "source": [
    "classifier.fit(X2_scaled_train,y2_train)\n",
    "\n"
   ]
  },
  {
   "cell_type": "code",
   "execution_count": 7,
   "id": "3e250ca2-dc08-4066-a5fb-3454e46f7f0a",
   "metadata": {},
   "outputs": [],
   "source": [
    "y2_pred = classifier.predict(X2_scaled_test)"
   ]
  },
  {
   "cell_type": "code",
   "execution_count": 8,
   "id": "fcaa5f3a-ab8b-4ef5-bb03-9b960dba0ab7",
   "metadata": {},
   "outputs": [
    {
     "data": {
      "text/plain": [
       "array([1, 0, 0, 1, 1, 1, 0, 1, 1, 1, 0, 1, 0, 1, 1, 0, 1, 1, 0, 0, 0, 1,\n",
       "       0, 0, 1, 1, 0, 1, 0, 0, 0, 1, 1, 1, 0, 0, 1, 1, 0, 0, 1, 1, 1, 1,\n",
       "       1, 0, 1, 0, 0, 1, 0, 1, 0, 0, 0, 0, 1, 0, 1, 1, 1, 1, 1, 0, 1, 1,\n",
       "       0, 1, 1, 1, 0, 0, 0, 1, 0, 0, 1, 1, 1, 1, 1, 1, 0, 0, 0, 1, 1, 1,\n",
       "       1, 1, 0, 1, 1, 0, 1, 0, 0, 1, 1, 0, 0, 1, 0, 1, 0, 1, 1, 1, 0, 0,\n",
       "       1, 0, 0, 0, 1, 1, 0, 1, 0, 0, 0, 1, 0, 0, 0, 0, 1, 1, 0, 0, 1, 0,\n",
       "       0, 0, 1, 0, 0, 1, 1, 0, 1, 1, 0, 0, 0, 1, 1, 1, 1, 1, 1, 1, 1, 0,\n",
       "       1, 0, 0, 1, 0, 1, 0, 0, 1, 1, 0, 0, 1, 0, 0, 1, 1, 0, 1, 0, 0, 0,\n",
       "       0, 1, 0, 1, 0, 1, 1, 0, 0, 1, 0, 0, 1, 1, 1, 0, 1, 1, 0, 1, 1, 0,\n",
       "       1, 0, 1, 1, 0, 0, 1, 0, 1, 0, 0, 1, 0, 1, 1, 1, 0, 0, 1, 1, 1, 1,\n",
       "       0, 0, 1, 1, 1, 0, 0, 1, 0, 1, 1, 1, 0, 0, 1, 0, 0, 0, 1, 1, 1, 0,\n",
       "       0, 0, 1, 1, 1, 0, 1, 1, 0, 0, 0, 1, 0, 1, 1, 1, 1, 1, 1, 0, 1, 0,\n",
       "       1, 1, 1, 1, 1, 1, 0, 0, 0, 0, 0, 1, 1, 1, 1, 0, 0, 0, 1, 0, 1, 0,\n",
       "       0, 0, 0, 0, 0, 0, 1, 0, 0, 0, 1, 0, 1, 1])"
      ]
     },
     "execution_count": 8,
     "metadata": {},
     "output_type": "execute_result"
    }
   ],
   "source": [
    "y2_pred"
   ]
  },
  {
   "cell_type": "code",
   "execution_count": 9,
   "id": "df369fa1-b3b9-4d02-88c3-5fac8b4a4307",
   "metadata": {},
   "outputs": [
    {
     "name": "stdout",
     "output_type": "stream",
     "text": [
      "0.95\n",
      "0.9363057324840764\n",
      "0.9671052631578947\n"
     ]
    }
   ],
   "source": [
    "from sklearn.metrics import precision_score,recall_score,accuracy_score\n",
    "print(accuracy_score(y2_pred,y2_test))\n",
    "print(recall_score(y2_pred,y2_test))\n",
    "print( precision_score(y2_pred,y2_test))"
   ]
  },
  {
   "cell_type": "code",
   "execution_count": 10,
   "id": "d908da28-79b8-43cb-9b6f-57ce25e5d525",
   "metadata": {},
   "outputs": [],
   "source": [
    "parameter  ={\n",
    "             'C':[0.1,1,10,100,1000],\n",
    "             'gamma':['scale','auto'],\n",
    "              'kernel':['linear', 'rbf']\n",
    "}"
   ]
  },
  {
   "cell_type": "code",
   "execution_count": 11,
   "id": "ccbd5d9b-16da-4946-8ff2-42c029f991f0",
   "metadata": {},
   "outputs": [],
   "source": [
    "from sklearn.model_selection import GridSearchCV\n",
    "clf = SVC()\n",
    "gridsearchcv = GridSearchCV(clf,param_grid = parameter,refit = True,cv=3,verbose = 3,scoring = 'accuracy')"
   ]
  },
  {
   "cell_type": "code",
   "execution_count": 13,
   "id": "2af73d62-c98c-4c61-a857-27ccfa1b1ed0",
   "metadata": {},
   "outputs": [
    {
     "name": "stdout",
     "output_type": "stream",
     "text": [
      "Fitting 3 folds for each of 20 candidates, totalling 60 fits\n",
      "[CV 1/3] END .C=0.1, gamma=scale, kernel=linear;, score=0.915 total time=   0.0s\n",
      "[CV 2/3] END .C=0.1, gamma=scale, kernel=linear;, score=0.931 total time=   0.0s\n",
      "[CV 3/3] END .C=0.1, gamma=scale, kernel=linear;, score=0.893 total time=   0.0s\n",
      "[CV 1/3] END ....C=0.1, gamma=scale, kernel=rbf;, score=0.966 total time=   0.0s\n",
      "[CV 2/3] END ....C=0.1, gamma=scale, kernel=rbf;, score=0.953 total time=   0.0s\n",
      "[CV 3/3] END ....C=0.1, gamma=scale, kernel=rbf;, score=0.927 total time=   0.0s\n",
      "[CV 1/3] END ..C=0.1, gamma=auto, kernel=linear;, score=0.915 total time=   0.0s\n",
      "[CV 2/3] END ..C=0.1, gamma=auto, kernel=linear;, score=0.931 total time=   0.0s\n",
      "[CV 3/3] END ..C=0.1, gamma=auto, kernel=linear;, score=0.893 total time=   0.0s\n",
      "[CV 1/3] END .....C=0.1, gamma=auto, kernel=rbf;, score=0.966 total time=   0.0s\n",
      "[CV 2/3] END .....C=0.1, gamma=auto, kernel=rbf;, score=0.953 total time=   0.0s\n",
      "[CV 3/3] END .....C=0.1, gamma=auto, kernel=rbf;, score=0.927 total time=   0.0s\n",
      "[CV 1/3] END ...C=1, gamma=scale, kernel=linear;, score=0.923 total time=   0.0s\n",
      "[CV 2/3] END ...C=1, gamma=scale, kernel=linear;, score=0.918 total time=   0.0s\n",
      "[CV 3/3] END ...C=1, gamma=scale, kernel=linear;, score=0.880 total time=   0.0s\n",
      "[CV 1/3] END ......C=1, gamma=scale, kernel=rbf;, score=0.987 total time=   0.0s\n",
      "[CV 2/3] END ......C=1, gamma=scale, kernel=rbf;, score=0.957 total time=   0.0s\n",
      "[CV 3/3] END ......C=1, gamma=scale, kernel=rbf;, score=0.936 total time=   0.0s\n",
      "[CV 1/3] END ....C=1, gamma=auto, kernel=linear;, score=0.923 total time=   0.0s\n",
      "[CV 2/3] END ....C=1, gamma=auto, kernel=linear;, score=0.918 total time=   0.0s\n",
      "[CV 3/3] END ....C=1, gamma=auto, kernel=linear;, score=0.880 total time=   0.0s\n",
      "[CV 1/3] END .......C=1, gamma=auto, kernel=rbf;, score=0.987 total time=   0.0s\n",
      "[CV 2/3] END .......C=1, gamma=auto, kernel=rbf;, score=0.957 total time=   0.0s\n",
      "[CV 3/3] END .......C=1, gamma=auto, kernel=rbf;, score=0.936 total time=   0.0s\n",
      "[CV 1/3] END ..C=10, gamma=scale, kernel=linear;, score=0.923 total time=   0.0s\n",
      "[CV 2/3] END ..C=10, gamma=scale, kernel=linear;, score=0.914 total time=   0.0s\n",
      "[CV 3/3] END ..C=10, gamma=scale, kernel=linear;, score=0.880 total time=   0.0s\n",
      "[CV 1/3] END .....C=10, gamma=scale, kernel=rbf;, score=0.983 total time=   0.0s\n",
      "[CV 2/3] END .....C=10, gamma=scale, kernel=rbf;, score=0.961 total time=   0.0s\n",
      "[CV 3/3] END .....C=10, gamma=scale, kernel=rbf;, score=0.940 total time=   0.0s\n",
      "[CV 1/3] END ...C=10, gamma=auto, kernel=linear;, score=0.923 total time=   0.0s\n",
      "[CV 2/3] END ...C=10, gamma=auto, kernel=linear;, score=0.914 total time=   0.0s\n",
      "[CV 3/3] END ...C=10, gamma=auto, kernel=linear;, score=0.880 total time=   0.0s\n",
      "[CV 1/3] END ......C=10, gamma=auto, kernel=rbf;, score=0.983 total time=   0.0s\n",
      "[CV 2/3] END ......C=10, gamma=auto, kernel=rbf;, score=0.961 total time=   0.0s\n",
      "[CV 3/3] END ......C=10, gamma=auto, kernel=rbf;, score=0.940 total time=   0.0s\n",
      "[CV 1/3] END .C=100, gamma=scale, kernel=linear;, score=0.927 total time=   0.0s\n",
      "[CV 2/3] END .C=100, gamma=scale, kernel=linear;, score=0.914 total time=   0.0s\n",
      "[CV 3/3] END .C=100, gamma=scale, kernel=linear;, score=0.880 total time=   0.0s\n",
      "[CV 1/3] END ....C=100, gamma=scale, kernel=rbf;, score=0.987 total time=   0.0s\n",
      "[CV 2/3] END ....C=100, gamma=scale, kernel=rbf;, score=0.957 total time=   0.0s\n",
      "[CV 3/3] END ....C=100, gamma=scale, kernel=rbf;, score=0.948 total time=   0.0s\n",
      "[CV 1/3] END ..C=100, gamma=auto, kernel=linear;, score=0.927 total time=   0.0s\n",
      "[CV 2/3] END ..C=100, gamma=auto, kernel=linear;, score=0.914 total time=   0.0s\n",
      "[CV 3/3] END ..C=100, gamma=auto, kernel=linear;, score=0.880 total time=   0.0s\n",
      "[CV 1/3] END .....C=100, gamma=auto, kernel=rbf;, score=0.987 total time=   0.0s\n",
      "[CV 2/3] END .....C=100, gamma=auto, kernel=rbf;, score=0.957 total time=   0.0s\n",
      "[CV 3/3] END .....C=100, gamma=auto, kernel=rbf;, score=0.948 total time=   0.0s\n",
      "[CV 1/3] END C=1000, gamma=scale, kernel=linear;, score=0.927 total time=   0.1s\n",
      "[CV 2/3] END C=1000, gamma=scale, kernel=linear;, score=0.914 total time=   0.1s\n",
      "[CV 3/3] END C=1000, gamma=scale, kernel=linear;, score=0.880 total time=   0.1s\n",
      "[CV 1/3] END ...C=1000, gamma=scale, kernel=rbf;, score=0.979 total time=   0.0s\n",
      "[CV 2/3] END ...C=1000, gamma=scale, kernel=rbf;, score=0.953 total time=   0.0s\n",
      "[CV 3/3] END ...C=1000, gamma=scale, kernel=rbf;, score=0.948 total time=   0.0s\n",
      "[CV 1/3] END .C=1000, gamma=auto, kernel=linear;, score=0.927 total time=   0.1s\n",
      "[CV 2/3] END .C=1000, gamma=auto, kernel=linear;, score=0.914 total time=   0.1s\n",
      "[CV 3/3] END .C=1000, gamma=auto, kernel=linear;, score=0.880 total time=   0.1s\n",
      "[CV 1/3] END ....C=1000, gamma=auto, kernel=rbf;, score=0.979 total time=   0.0s\n",
      "[CV 2/3] END ....C=1000, gamma=auto, kernel=rbf;, score=0.953 total time=   0.0s\n",
      "[CV 3/3] END ....C=1000, gamma=auto, kernel=rbf;, score=0.948 total time=   0.0s\n"
     ]
    },
    {
     "data": {
      "text/html": [
       "<style>#sk-container-id-2 {color: black;background-color: white;}#sk-container-id-2 pre{padding: 0;}#sk-container-id-2 div.sk-toggleable {background-color: white;}#sk-container-id-2 label.sk-toggleable__label {cursor: pointer;display: block;width: 100%;margin-bottom: 0;padding: 0.3em;box-sizing: border-box;text-align: center;}#sk-container-id-2 label.sk-toggleable__label-arrow:before {content: \"▸\";float: left;margin-right: 0.25em;color: #696969;}#sk-container-id-2 label.sk-toggleable__label-arrow:hover:before {color: black;}#sk-container-id-2 div.sk-estimator:hover label.sk-toggleable__label-arrow:before {color: black;}#sk-container-id-2 div.sk-toggleable__content {max-height: 0;max-width: 0;overflow: hidden;text-align: left;background-color: #f0f8ff;}#sk-container-id-2 div.sk-toggleable__content pre {margin: 0.2em;color: black;border-radius: 0.25em;background-color: #f0f8ff;}#sk-container-id-2 input.sk-toggleable__control:checked~div.sk-toggleable__content {max-height: 200px;max-width: 100%;overflow: auto;}#sk-container-id-2 input.sk-toggleable__control:checked~label.sk-toggleable__label-arrow:before {content: \"▾\";}#sk-container-id-2 div.sk-estimator input.sk-toggleable__control:checked~label.sk-toggleable__label {background-color: #d4ebff;}#sk-container-id-2 div.sk-label input.sk-toggleable__control:checked~label.sk-toggleable__label {background-color: #d4ebff;}#sk-container-id-2 input.sk-hidden--visually {border: 0;clip: rect(1px 1px 1px 1px);clip: rect(1px, 1px, 1px, 1px);height: 1px;margin: -1px;overflow: hidden;padding: 0;position: absolute;width: 1px;}#sk-container-id-2 div.sk-estimator {font-family: monospace;background-color: #f0f8ff;border: 1px dotted black;border-radius: 0.25em;box-sizing: border-box;margin-bottom: 0.5em;}#sk-container-id-2 div.sk-estimator:hover {background-color: #d4ebff;}#sk-container-id-2 div.sk-parallel-item::after {content: \"\";width: 100%;border-bottom: 1px solid gray;flex-grow: 1;}#sk-container-id-2 div.sk-label:hover label.sk-toggleable__label {background-color: #d4ebff;}#sk-container-id-2 div.sk-serial::before {content: \"\";position: absolute;border-left: 1px solid gray;box-sizing: border-box;top: 0;bottom: 0;left: 50%;z-index: 0;}#sk-container-id-2 div.sk-serial {display: flex;flex-direction: column;align-items: center;background-color: white;padding-right: 0.2em;padding-left: 0.2em;position: relative;}#sk-container-id-2 div.sk-item {position: relative;z-index: 1;}#sk-container-id-2 div.sk-parallel {display: flex;align-items: stretch;justify-content: center;background-color: white;position: relative;}#sk-container-id-2 div.sk-item::before, #sk-container-id-2 div.sk-parallel-item::before {content: \"\";position: absolute;border-left: 1px solid gray;box-sizing: border-box;top: 0;bottom: 0;left: 50%;z-index: -1;}#sk-container-id-2 div.sk-parallel-item {display: flex;flex-direction: column;z-index: 1;position: relative;background-color: white;}#sk-container-id-2 div.sk-parallel-item:first-child::after {align-self: flex-end;width: 50%;}#sk-container-id-2 div.sk-parallel-item:last-child::after {align-self: flex-start;width: 50%;}#sk-container-id-2 div.sk-parallel-item:only-child::after {width: 0;}#sk-container-id-2 div.sk-dashed-wrapped {border: 1px dashed gray;margin: 0 0.4em 0.5em 0.4em;box-sizing: border-box;padding-bottom: 0.4em;background-color: white;}#sk-container-id-2 div.sk-label label {font-family: monospace;font-weight: bold;display: inline-block;line-height: 1.2em;}#sk-container-id-2 div.sk-label-container {text-align: center;}#sk-container-id-2 div.sk-container {/* jupyter's `normalize.less` sets `[hidden] { display: none; }` but bootstrap.min.css set `[hidden] { display: none !important; }` so we also need the `!important` here to be able to override the default hidden behavior on the sphinx rendered scikit-learn.org. See: https://github.com/scikit-learn/scikit-learn/issues/21755 */display: inline-block !important;position: relative;}#sk-container-id-2 div.sk-text-repr-fallback {display: none;}</style><div id=\"sk-container-id-2\" class=\"sk-top-container\"><div class=\"sk-text-repr-fallback\"><pre>GridSearchCV(cv=3, estimator=SVC(),\n",
       "             param_grid={&#x27;C&#x27;: [0.1, 1, 10, 100, 1000],\n",
       "                         &#x27;gamma&#x27;: [&#x27;scale&#x27;, &#x27;auto&#x27;],\n",
       "                         &#x27;kernel&#x27;: [&#x27;linear&#x27;, &#x27;rbf&#x27;]},\n",
       "             scoring=&#x27;accuracy&#x27;, verbose=3)</pre><b>In a Jupyter environment, please rerun this cell to show the HTML representation or trust the notebook. <br />On GitHub, the HTML representation is unable to render, please try loading this page with nbviewer.org.</b></div><div class=\"sk-container\" hidden><div class=\"sk-item sk-dashed-wrapped\"><div class=\"sk-label-container\"><div class=\"sk-label sk-toggleable\"><input class=\"sk-toggleable__control sk-hidden--visually\" id=\"sk-estimator-id-2\" type=\"checkbox\" ><label for=\"sk-estimator-id-2\" class=\"sk-toggleable__label sk-toggleable__label-arrow\">GridSearchCV</label><div class=\"sk-toggleable__content\"><pre>GridSearchCV(cv=3, estimator=SVC(),\n",
       "             param_grid={&#x27;C&#x27;: [0.1, 1, 10, 100, 1000],\n",
       "                         &#x27;gamma&#x27;: [&#x27;scale&#x27;, &#x27;auto&#x27;],\n",
       "                         &#x27;kernel&#x27;: [&#x27;linear&#x27;, &#x27;rbf&#x27;]},\n",
       "             scoring=&#x27;accuracy&#x27;, verbose=3)</pre></div></div></div><div class=\"sk-parallel\"><div class=\"sk-parallel-item\"><div class=\"sk-item\"><div class=\"sk-label-container\"><div class=\"sk-label sk-toggleable\"><input class=\"sk-toggleable__control sk-hidden--visually\" id=\"sk-estimator-id-3\" type=\"checkbox\" ><label for=\"sk-estimator-id-3\" class=\"sk-toggleable__label sk-toggleable__label-arrow\">estimator: SVC</label><div class=\"sk-toggleable__content\"><pre>SVC()</pre></div></div></div><div class=\"sk-serial\"><div class=\"sk-item\"><div class=\"sk-estimator sk-toggleable\"><input class=\"sk-toggleable__control sk-hidden--visually\" id=\"sk-estimator-id-4\" type=\"checkbox\" ><label for=\"sk-estimator-id-4\" class=\"sk-toggleable__label sk-toggleable__label-arrow\">SVC</label><div class=\"sk-toggleable__content\"><pre>SVC()</pre></div></div></div></div></div></div></div></div></div></div>"
      ],
      "text/plain": [
       "GridSearchCV(cv=3, estimator=SVC(),\n",
       "             param_grid={'C': [0.1, 1, 10, 100, 1000],\n",
       "                         'gamma': ['scale', 'auto'],\n",
       "                         'kernel': ['linear', 'rbf']},\n",
       "             scoring='accuracy', verbose=3)"
      ]
     },
     "execution_count": 13,
     "metadata": {},
     "output_type": "execute_result"
    }
   ],
   "source": [
    "gridsearchcv.fit(X2_scaled_train,y2_train)"
   ]
  },
  {
   "cell_type": "code",
   "execution_count": 18,
   "id": "ac7f0667-a2b7-4f21-b06d-7a82922acaa0",
   "metadata": {},
   "outputs": [],
   "source": [
    "best_params = gridsearchcv.best_params_"
   ]
  },
  {
   "cell_type": "code",
   "execution_count": 20,
   "id": "e33e1fc0-25b3-4c15-849c-78a166ec0806",
   "metadata": {},
   "outputs": [
    {
     "data": {
      "text/html": [
       "<style>#sk-container-id-3 {color: black;background-color: white;}#sk-container-id-3 pre{padding: 0;}#sk-container-id-3 div.sk-toggleable {background-color: white;}#sk-container-id-3 label.sk-toggleable__label {cursor: pointer;display: block;width: 100%;margin-bottom: 0;padding: 0.3em;box-sizing: border-box;text-align: center;}#sk-container-id-3 label.sk-toggleable__label-arrow:before {content: \"▸\";float: left;margin-right: 0.25em;color: #696969;}#sk-container-id-3 label.sk-toggleable__label-arrow:hover:before {color: black;}#sk-container-id-3 div.sk-estimator:hover label.sk-toggleable__label-arrow:before {color: black;}#sk-container-id-3 div.sk-toggleable__content {max-height: 0;max-width: 0;overflow: hidden;text-align: left;background-color: #f0f8ff;}#sk-container-id-3 div.sk-toggleable__content pre {margin: 0.2em;color: black;border-radius: 0.25em;background-color: #f0f8ff;}#sk-container-id-3 input.sk-toggleable__control:checked~div.sk-toggleable__content {max-height: 200px;max-width: 100%;overflow: auto;}#sk-container-id-3 input.sk-toggleable__control:checked~label.sk-toggleable__label-arrow:before {content: \"▾\";}#sk-container-id-3 div.sk-estimator input.sk-toggleable__control:checked~label.sk-toggleable__label {background-color: #d4ebff;}#sk-container-id-3 div.sk-label input.sk-toggleable__control:checked~label.sk-toggleable__label {background-color: #d4ebff;}#sk-container-id-3 input.sk-hidden--visually {border: 0;clip: rect(1px 1px 1px 1px);clip: rect(1px, 1px, 1px, 1px);height: 1px;margin: -1px;overflow: hidden;padding: 0;position: absolute;width: 1px;}#sk-container-id-3 div.sk-estimator {font-family: monospace;background-color: #f0f8ff;border: 1px dotted black;border-radius: 0.25em;box-sizing: border-box;margin-bottom: 0.5em;}#sk-container-id-3 div.sk-estimator:hover {background-color: #d4ebff;}#sk-container-id-3 div.sk-parallel-item::after {content: \"\";width: 100%;border-bottom: 1px solid gray;flex-grow: 1;}#sk-container-id-3 div.sk-label:hover label.sk-toggleable__label {background-color: #d4ebff;}#sk-container-id-3 div.sk-serial::before {content: \"\";position: absolute;border-left: 1px solid gray;box-sizing: border-box;top: 0;bottom: 0;left: 50%;z-index: 0;}#sk-container-id-3 div.sk-serial {display: flex;flex-direction: column;align-items: center;background-color: white;padding-right: 0.2em;padding-left: 0.2em;position: relative;}#sk-container-id-3 div.sk-item {position: relative;z-index: 1;}#sk-container-id-3 div.sk-parallel {display: flex;align-items: stretch;justify-content: center;background-color: white;position: relative;}#sk-container-id-3 div.sk-item::before, #sk-container-id-3 div.sk-parallel-item::before {content: \"\";position: absolute;border-left: 1px solid gray;box-sizing: border-box;top: 0;bottom: 0;left: 50%;z-index: -1;}#sk-container-id-3 div.sk-parallel-item {display: flex;flex-direction: column;z-index: 1;position: relative;background-color: white;}#sk-container-id-3 div.sk-parallel-item:first-child::after {align-self: flex-end;width: 50%;}#sk-container-id-3 div.sk-parallel-item:last-child::after {align-self: flex-start;width: 50%;}#sk-container-id-3 div.sk-parallel-item:only-child::after {width: 0;}#sk-container-id-3 div.sk-dashed-wrapped {border: 1px dashed gray;margin: 0 0.4em 0.5em 0.4em;box-sizing: border-box;padding-bottom: 0.4em;background-color: white;}#sk-container-id-3 div.sk-label label {font-family: monospace;font-weight: bold;display: inline-block;line-height: 1.2em;}#sk-container-id-3 div.sk-label-container {text-align: center;}#sk-container-id-3 div.sk-container {/* jupyter's `normalize.less` sets `[hidden] { display: none; }` but bootstrap.min.css set `[hidden] { display: none !important; }` so we also need the `!important` here to be able to override the default hidden behavior on the sphinx rendered scikit-learn.org. See: https://github.com/scikit-learn/scikit-learn/issues/21755 */display: inline-block !important;position: relative;}#sk-container-id-3 div.sk-text-repr-fallback {display: none;}</style><div id=\"sk-container-id-3\" class=\"sk-top-container\"><div class=\"sk-text-repr-fallback\"><pre>SVC(C=100)</pre><b>In a Jupyter environment, please rerun this cell to show the HTML representation or trust the notebook. <br />On GitHub, the HTML representation is unable to render, please try loading this page with nbviewer.org.</b></div><div class=\"sk-container\" hidden><div class=\"sk-item\"><div class=\"sk-estimator sk-toggleable\"><input class=\"sk-toggleable__control sk-hidden--visually\" id=\"sk-estimator-id-5\" type=\"checkbox\" checked><label for=\"sk-estimator-id-5\" class=\"sk-toggleable__label sk-toggleable__label-arrow\">SVC</label><div class=\"sk-toggleable__content\"><pre>SVC(C=100)</pre></div></div></div></div></div>"
      ],
      "text/plain": [
       "SVC(C=100)"
      ]
     },
     "execution_count": 20,
     "metadata": {},
     "output_type": "execute_result"
    }
   ],
   "source": [
    "svc_classifier_tuned = SVC(**best_params)\n",
    "svc_classifier_tuned.fit(X2_scaled_train, y2_train)"
   ]
  },
  {
   "cell_type": "code",
   "execution_count": 21,
   "id": "956a31c2-23dc-4615-98cd-7f6392494863",
   "metadata": {},
   "outputs": [
    {
     "name": "stdout",
     "output_type": "stream",
     "text": [
      "0.95\n",
      "0.9363057324840764\n",
      "0.9671052631578947\n"
     ]
    }
   ],
   "source": [
    "from sklearn.metrics import precision_score,recall_score,accuracy_score\n",
    "print(accuracy_score(y2_pred,y2_test))\n",
    "print(recall_score(y2_pred,y2_test))\n",
    "print( precision_score(y2_pred,y2_test))"
   ]
  },
  {
   "cell_type": "code",
   "execution_count": 23,
   "id": "04af01c5-8df9-455f-bc53-bee4bf7922e8",
   "metadata": {},
   "outputs": [],
   "source": [
    "# Save the trained classifier using pickle\n",
    "import pickle\n",
    "with open('trained_classifier.pkl', 'wb') as file:\n",
    "    pickle.dump(svc_classifier_tuned, file)\n"
   ]
  },
  {
   "cell_type": "code",
   "execution_count": null,
   "id": "891907ba-8c58-4e02-b1f3-2a03b02aa988",
   "metadata": {},
   "outputs": [],
   "source": []
  }
 ],
 "metadata": {
  "kernelspec": {
   "display_name": "Python 3 (ipykernel)",
   "language": "python",
   "name": "python3"
  },
  "language_info": {
   "codemirror_mode": {
    "name": "ipython",
    "version": 3
   },
   "file_extension": ".py",
   "mimetype": "text/x-python",
   "name": "python",
   "nbconvert_exporter": "python",
   "pygments_lexer": "ipython3",
   "version": "3.10.8"
  }
 },
 "nbformat": 4,
 "nbformat_minor": 5
}
