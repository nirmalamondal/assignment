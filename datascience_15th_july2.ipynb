{
 "cells": [
  {
   "cell_type": "markdown",
   "id": "caeaa7a3-d2cc-4bcc-ac75-a9d1083ba11e",
   "metadata": {},
   "source": [
    "\n",
    "1. Scenario: A company wants to analyze the sales performance of its products in different regions. They have collected the following data:\n",
    "   Region A: [10, 15, 12, 8, 14]\n",
    "   Region B: [18, 20, 16, 22, 25]\n",
    "   Calculate the mean sales for each region.\n"
   ]
  },
  {
   "cell_type": "code",
   "execution_count": 3,
   "id": "241fe0e8-b328-4942-9a7f-0eaea5f2846d",
   "metadata": {},
   "outputs": [
    {
     "data": {
      "text/plain": [
       "Region A    11.8\n",
       "Region B    20.2\n",
       "dtype: float64"
      ]
     },
     "execution_count": 3,
     "metadata": {},
     "output_type": "execute_result"
    }
   ],
   "source": [
    "import pandas as pd\n",
    "\n",
    "data = {'Region A':[10, 15, 12, 8, 14],\n",
    "       'Region B': [18, 20, 16, 22, 25] }\n",
    "data = pd.DataFrame(data)\n",
    "data.mean()"
   ]
  },
  {
   "cell_type": "markdown",
   "id": "24597a98-57f2-4548-98e2-012c934478f3",
   "metadata": {},
   "source": [
    "2. Scenario: A survey is conducted to measure customer satisfaction on a scale of 1 to 5. The data collected is as follows:\n",
    "   [4, 5, 2, 3, 5, 4, 3, 2, 4, 5]\n",
    "   Calculate the mode of the survey responses.\n"
   ]
  },
  {
   "cell_type": "code",
   "execution_count": 6,
   "id": "125ab66c-9b74-465e-a62c-7f84f73b6b5e",
   "metadata": {},
   "outputs": [
    {
     "data": {
      "text/html": [
       "<div>\n",
       "<style scoped>\n",
       "    .dataframe tbody tr th:only-of-type {\n",
       "        vertical-align: middle;\n",
       "    }\n",
       "\n",
       "    .dataframe tbody tr th {\n",
       "        vertical-align: top;\n",
       "    }\n",
       "\n",
       "    .dataframe thead th {\n",
       "        text-align: right;\n",
       "    }\n",
       "</style>\n",
       "<table border=\"1\" class=\"dataframe\">\n",
       "  <thead>\n",
       "    <tr style=\"text-align: right;\">\n",
       "      <th></th>\n",
       "      <th>0</th>\n",
       "    </tr>\n",
       "  </thead>\n",
       "  <tbody>\n",
       "    <tr>\n",
       "      <th>0</th>\n",
       "      <td>4</td>\n",
       "    </tr>\n",
       "    <tr>\n",
       "      <th>1</th>\n",
       "      <td>5</td>\n",
       "    </tr>\n",
       "  </tbody>\n",
       "</table>\n",
       "</div>"
      ],
      "text/plain": [
       "   0\n",
       "0  4\n",
       "1  5"
      ]
     },
     "execution_count": 6,
     "metadata": {},
     "output_type": "execute_result"
    }
   ],
   "source": [
    "sat = [4, 5, 2, 3, 5, 4, 3, 2, 4, 5]\n",
    "sat = pd.DataFrame(sat)\n",
    "sat.mode()"
   ]
  },
  {
   "cell_type": "markdown",
   "id": "e3d2a816-acaa-48ed-ae15-94b040d49b0b",
   "metadata": {},
   "source": [
    "\n",
    "3. Scenario: A company wants to compare the salaries of two departments. The salary data for Department A and Department B are as follows:\n",
    "   Department A: [5000, 6000, 5500, 7000]\n",
    "   Department B: [4500, 5500, 5800, 6000, 5200]\n",
    "   Calculate the median salary for each department.\n"
   ]
  },
  {
   "cell_type": "code",
   "execution_count": 3,
   "id": "1b2a7287-48f8-4b1a-9797-710f8826b801",
   "metadata": {},
   "outputs": [
    {
     "name": "stdout",
     "output_type": "stream",
     "text": [
      "Department A    5750.0\n",
      "dtype: float64\n",
      "Department B    5500.0\n",
      "dtype: float64\n"
     ]
    }
   ],
   "source": [
    "import pandas as pd\n",
    "data1 ={ 'Department A': [5000, 6000, 5500, 7000]}\n",
    "data2 ={'Department B': [4500, 5500, 5800, 6000, 5200]}  \n",
    "data1 = pd.DataFrame(data1)\n",
    "data2=pd.DataFrame(data2)\n",
    "print(data1.median())\n",
    "print(data2.median())"
   ]
  },
  {
   "cell_type": "markdown",
   "id": "10160209-51a5-4317-9d84-01b9a8ebc663",
   "metadata": {},
   "source": [
    "4. Scenario: A data analyst wants to determine the variability in the daily stock prices of a company. The data collected is as follows:\n",
    "   [25.5, 24.8, 26.1, 25.3, 24.9]\n",
    "   Calculate the range of the stock prices.\n"
   ]
  },
  {
   "cell_type": "code",
   "execution_count": 5,
   "id": "5f82e745-9e7c-481b-92b4-a814e6fafd16",
   "metadata": {},
   "outputs": [
    {
     "name": "stdout",
     "output_type": "stream",
     "text": [
      "1.3000000000000007\n"
     ]
    }
   ],
   "source": [
    "data =  [25.5, 24.8, 26.1, 25.3, 24.9]\n",
    "maxx= max(data)\n",
    "minn=min(data)\n",
    "print(maxx-minn)"
   ]
  },
  {
   "cell_type": "markdown",
   "id": "2db5015d-74ec-4a77-8251-979f051493af",
   "metadata": {},
   "source": [
    "5. Scenario: A study is conducted to compare the performance of two different teaching methods. The test scores of the students in each group are as follows:\n",
    "   Group A: [85, 90, 92, 88, 91]\n",
    "   Group B: [82, 88, 90, 86, 87]\n",
    "   Perform a t-test to determine if there is a significant difference in the mean scores between the two groups.\n"
   ]
  },
  {
   "cell_type": "code",
   "execution_count": 2,
   "id": "35115ea9-73df-44f4-af86-13e649c7956a",
   "metadata": {},
   "outputs": [
    {
     "name": "stdout",
     "output_type": "stream",
     "text": [
      "There is not enough evidence to suggest a significant difference in the mean scores between Group A and Group B.\n",
      "t-value: 1.4312528946642733\n",
      "p-value: 0.19023970239078333\n"
     ]
    }
   ],
   "source": [
    "import numpy as np\n",
    "from scipy import stats\n",
    "\n",
    "# Define the data for each group\n",
    "group_a = np.array([85, 90, 92, 88, 91])\n",
    "group_b = np.array([82, 88, 90, 86, 87])\n",
    "\n",
    "# Calculate the means of each group\n",
    "mean_a = np.mean(group_a)\n",
    "mean_b = np.mean(group_b)\n",
    "\n",
    "# Calculate the standard deviations of each group\n",
    "std_a = np.std(group_a, ddof=1)\n",
    "std_b = np.std(group_b, ddof=1)\n",
    "\n",
    "# Calculate the t-value and p-value using scipy.stats.ttest_ind\n",
    "t_value, p_value = stats.ttest_ind(group_a, group_b)\n",
    "\n",
    "# Define the significance level (alpha)\n",
    "alpha = 0.05\n",
    "\n",
    "# Compare the p-value with the significance level to make a decision\n",
    "if p_value < alpha:\n",
    "    print(\"There is a significant difference in the mean scores between Group A and Group B.\")\n",
    "else:\n",
    "    print(\"There is not enough evidence to suggest a significant difference in the mean scores between Group A and Group B.\")\n",
    "\n",
    "# Print the calculated t-value and p-value\n",
    "print(\"t-value:\", t_value)\n",
    "print(\"p-value:\", p_value)\n"
   ]
  },
  {
   "cell_type": "markdown",
   "id": "952a3afd-c3cf-4987-9f94-0eb9acaf690a",
   "metadata": {},
   "source": [
    "6. Scenario: A company wants to analyze the relationship between advertising expenditure and sales. The data collected is as follows:\n",
    "   Advertising Expenditure (in thousands): [10, 15, 12, 8, 14]\n",
    "   Sales (in thousands): [25, 30, 28, 20, 26]\n",
    "   Calculate the correlation coefficient between advertising expenditure and sales.\n"
   ]
  },
  {
   "cell_type": "code",
   "execution_count": 4,
   "id": "6144ef17-3924-439f-a685-dee5200d13c8",
   "metadata": {},
   "outputs": [],
   "source": [
    "data = {'Expenditure (in thousands)': [10, 15, 12, 8, 14],\n",
    "'Sales (in thousands)':[25, 30, 28, 20, 26]}"
   ]
  },
  {
   "cell_type": "code",
   "execution_count": 5,
   "id": "6814758b-3c82-480e-86ad-ff6efe64710a",
   "metadata": {},
   "outputs": [
    {
     "data": {
      "text/html": [
       "<div>\n",
       "<style scoped>\n",
       "    .dataframe tbody tr th:only-of-type {\n",
       "        vertical-align: middle;\n",
       "    }\n",
       "\n",
       "    .dataframe tbody tr th {\n",
       "        vertical-align: top;\n",
       "    }\n",
       "\n",
       "    .dataframe thead th {\n",
       "        text-align: right;\n",
       "    }\n",
       "</style>\n",
       "<table border=\"1\" class=\"dataframe\">\n",
       "  <thead>\n",
       "    <tr style=\"text-align: right;\">\n",
       "      <th></th>\n",
       "      <th>Expenditure (in thousands)</th>\n",
       "      <th>Sales (in thousands)</th>\n",
       "    </tr>\n",
       "  </thead>\n",
       "  <tbody>\n",
       "    <tr>\n",
       "      <th>Expenditure (in thousands)</th>\n",
       "      <td>1.000000</td>\n",
       "      <td>0.875751</td>\n",
       "    </tr>\n",
       "    <tr>\n",
       "      <th>Sales (in thousands)</th>\n",
       "      <td>0.875751</td>\n",
       "      <td>1.000000</td>\n",
       "    </tr>\n",
       "  </tbody>\n",
       "</table>\n",
       "</div>"
      ],
      "text/plain": [
       "                            Expenditure (in thousands)  Sales (in thousands)\n",
       "Expenditure (in thousands)                    1.000000              0.875751\n",
       "Sales (in thousands)                          0.875751              1.000000"
      ]
     },
     "execution_count": 5,
     "metadata": {},
     "output_type": "execute_result"
    }
   ],
   "source": [
    "import pandas as pd\n",
    "data = pd.DataFrame(data)\n",
    "data.corr()"
   ]
  },
  {
   "cell_type": "markdown",
   "id": "7022bccf-9342-4fa0-93eb-14e1a4297667",
   "metadata": {},
   "source": [
    "7. Scenario: A survey is conducted to measure the heights of a group of people. The data collected is as follows:\n",
    "   [160, 170, 165, 155, 175, 180, 170]\n",
    "   Calculate the standard deviation of the heights.\n"
   ]
  },
  {
   "cell_type": "code",
   "execution_count": 7,
   "id": "2924824f-46a3-4bda-8ef7-15b43085a52c",
   "metadata": {},
   "outputs": [
    {
     "data": {
      "text/plain": [
       "7.953949089757174"
      ]
     },
     "execution_count": 7,
     "metadata": {},
     "output_type": "execute_result"
    }
   ],
   "source": [
    "import numpy as np\n",
    "data = np.array([160, 170, 165, 155, 175, 180, 170])\n",
    "data.std()"
   ]
  },
  {
   "cell_type": "markdown",
   "id": "b4cc926f-9d36-4379-856a-87dcb954798e",
   "metadata": {},
   "source": [
    "8. Scenario: A company wants to analyze the relationship between employee tenure and job satisfaction. The data collected is as follows:\n",
    "   Employee Tenure (in years): [2, 3, 5, 4, 6, 2, 4]\n",
    "   Job Satisfaction (on a scale of 1 to 10): [7, 8, 6, 9, 5, 7, 6]\n",
    "   Perform a linear regression analysis to predict job satisfaction based on employee tenure.\n"
   ]
  },
  {
   "cell_type": "code",
   "execution_count": 11,
   "id": "fa30894c-f3b0-4e3a-83e6-fc2b3948b6fa",
   "metadata": {},
   "outputs": [
    {
     "name": "stdout",
     "output_type": "stream",
     "text": [
      "Slope: -0.4680851063829786\n",
      "Intercept: 8.595744680851062\n",
      "Predicted Job Satisfaction: 7.191489361702127\n"
     ]
    }
   ],
   "source": [
    "import numpy as np\n",
    "from sklearn.linear_model import LinearRegression\n",
    "\n",
    "# Define the data\n",
    "employee_tenure = np.array([2, 3, 5, 4, 6, 2, 4]).reshape(-1, 1)\n",
    "job_satisfaction = np.array([7, 8, 6, 9, 5, 7, 6])\n",
    "\n",
    "# Create a linear regression model\n",
    "model = LinearRegression()\n",
    "\n",
    "# Fit the model to the data\n",
    "model.fit(employee_tenure, job_satisfaction)\n",
    "\n",
    "# Get the coefficients (slope and intercept)\n",
    "slope = model.coef_[0]\n",
    "intercept = model.intercept_\n",
    "\n",
    "# Predict job satisfaction for a given tenure\n",
    "new_tenure = np.array([3]).reshape(-1, 1)  # Example: Predict job satisfaction for a tenure of 3 years\n",
    "predicted_satisfaction = model.predict(new_tenure)\n",
    "\n",
    "# Print the slope, intercept, and predicted job satisfaction\n",
    "print(\"Slope:\", slope)\n",
    "print(\"Intercept:\", intercept)\n",
    "print(\"Predicted Job Satisfaction:\", predicted_satisfaction[0])\n"
   ]
  },
  {
   "cell_type": "markdown",
   "id": "7bc0c2f7-90b4-4ef8-886d-7c6cff7078fa",
   "metadata": {},
   "source": [
    "9. Scenario: A study is conducted to compare the effectiveness of two different medications. The recovery times of the patients in each group are as follows:\n",
    "   Medication A: [10, 12, 14, 11, 13]\n",
    "   Medication B: [15, 17, 16, 14, 18]\n",
    "   Perform an analysis of variance (ANOVA) to determine if there is a significant difference in the mean recovery times between the two medications.\n"
   ]
  },
  {
   "cell_type": "code",
   "execution_count": 12,
   "id": "7f73b7f1-815a-4211-bc1d-ff400aa04cfa",
   "metadata": {},
   "outputs": [
    {
     "name": "stdout",
     "output_type": "stream",
     "text": [
      "There is a significant difference in the mean recovery times between Medication A and Medication B.\n",
      "F-value: 16.0\n",
      "p-value: 0.003949772803445326\n"
     ]
    }
   ],
   "source": [
    "import numpy as np\n",
    "from scipy import stats\n",
    "\n",
    "# Define the data for each group\n",
    "medication_a = np.array([10, 12, 14, 11, 13])\n",
    "medication_b = np.array([15, 17, 16, 14, 18])\n",
    "\n",
    "# Perform one-way ANOVA\n",
    "f_value, p_value = stats.f_oneway(medication_a, medication_b)\n",
    "\n",
    "# Define the significance level (alpha)\n",
    "alpha = 0.05\n",
    "\n",
    "# Compare the p-value with the significance level to make a decision\n",
    "if p_value < alpha:\n",
    "    print(\"There is a significant difference in the mean recovery times between Medication A and Medication B.\")\n",
    "else:\n",
    "    print(\"There is not enough evidence to suggest a significant difference in the mean recovery times between Medication A and Medication B.\")\n",
    "\n",
    "# Print the calculated F-value and p-value\n",
    "print(\"F-value:\", f_value)\n",
    "print(\"p-value:\", p_value)\n"
   ]
  },
  {
   "cell_type": "markdown",
   "id": "4b498220-099f-48a6-bab5-dba9c1bb2133",
   "metadata": {},
   "source": [
    "10. Scenario: A company wants to analyze customer feedback ratings on a scale of 1 to 10. The data collected is\n",
    "\n",
    " as follows:\n",
    "    [8, 9, 7, 6, 8, 10, 9, 8, 7, 8]\n",
    "    Calculate the 75th percentile of the feedback ratings.\n"
   ]
  },
  {
   "cell_type": "code",
   "execution_count": 13,
   "id": "9827f6b1-075e-4e27-8b0e-235a75e62962",
   "metadata": {},
   "outputs": [
    {
     "name": "stdout",
     "output_type": "stream",
     "text": [
      "75th Percentile of Feedback Ratings: 8.75\n"
     ]
    }
   ],
   "source": [
    "import numpy as np\n",
    "\n",
    "# Define the data\n",
    "feedback_ratings = np.array([8, 9, 7, 6, 8, 10, 9, 8, 7, 8])\n",
    "\n",
    "# Calculate the 75th percentile\n",
    "percentile_75 = np.percentile(feedback_ratings, 75)\n",
    "\n",
    "# Print the 75th percentile\n",
    "print(\"75th Percentile of Feedback Ratings:\", percentile_75)\n"
   ]
  },
  {
   "cell_type": "markdown",
   "id": "4f0010fd-8015-42f2-b114-55b8675f6dba",
   "metadata": {},
   "source": [
    "11. Scenario: A quality control department wants to test the weight consistency of a product. The weights of a sample of products are as follows:\n",
    "    [10.2, 9.8, 10.0, 10.5, 10.3, 10.1]\n",
    "    Perform a hypothesis test to determine if the mean weight differs significantly from 10 grams.\n"
   ]
  },
  {
   "cell_type": "code",
   "execution_count": 15,
   "id": "466a2c8f-0655-4241-b027-58fb93e4a1ef",
   "metadata": {},
   "outputs": [
    {
     "name": "stdout",
     "output_type": "stream",
     "text": [
      "There is not enough evidence to suggest a significant difference in the mean weight.\n",
      "t-statistic: 1.5126584522688367\n",
      "p-value: 0.19077595151110102\n"
     ]
    }
   ],
   "source": [
    "import numpy as np\n",
    "from scipy import stats\n",
    "\n",
    "# Define the data\n",
    "weights = np.array([10.2, 9.8, 10.0, 10.5, 10.3, 10.1])\n",
    "\n",
    "# Define the hypothesized mean\n",
    "hypothesized_mean = 10\n",
    "\n",
    "# Perform a one-sample t-test\n",
    "t_statistic, p_value = stats.ttest_1samp(weights, hypothesized_mean)\n",
    "\n",
    "# Define the significance level (alpha)\n",
    "alpha = 0.05\n",
    "\n",
    "# Compare the p-value with the significance level to make a decision\n",
    "if p_value < alpha:\n",
    "    print(\"The mean weight significantly differs from 10 grams.\")\n",
    "else:\n",
    "    print(\"There is not enough evidence to suggest a significant difference in the mean weight.\")\n",
    "\n",
    "# Print the calculated t-statistic and p-value\n",
    "print(\"t-statistic:\", t_statistic)\n",
    "print(\"p-value:\", p_value)\n"
   ]
  },
  {
   "cell_type": "markdown",
   "id": "d03ba943-273e-4205-8709-de3613d845ec",
   "metadata": {},
   "source": [
    "12. Scenario: A company wants to analyze the click-through rates of two different website designs. The number of clicks for each design is as follows:\n",
    "    Design A: [100, 120, 110, 90, 95]\n",
    "    Design B: [80, 85, 90, 95, 100]\n",
    "    Perform a chi-square test to determine if there is a significant difference in the click-through rates between the two designs.\n"
   ]
  },
  {
   "cell_type": "code",
   "execution_count": 17,
   "id": "382a8320-e912-421c-b61c-ed0f27c8c23e",
   "metadata": {},
   "outputs": [
    {
     "name": "stdout",
     "output_type": "stream",
     "text": [
      "There is not enough evidence to suggest a significant difference in the click-through rates.\n",
      "Chi-square statistic: [2.22222222 5.97560976 2.         0.13513514 0.12820513]\n",
      "p-value: [0.13603713 0.01450507 0.15729921 0.71316606 0.72030033]\n"
     ]
    }
   ],
   "source": [
    "import numpy as np\n",
    "from scipy import stats\n",
    "\n",
    "# Define the data for each design\n",
    "design_a = np.array([100, 120, 110, 90, 95])\n",
    "design_b = np.array([80, 85, 90, 95, 100])\n",
    "\n",
    "# Perform the chi-square test\n",
    "chi2_stat, p_value = stats.chisquare(f_obs=[design_a, design_b])\n",
    "\n",
    "# Define the significance level (alpha)\n",
    "alpha = 0.05\n",
    "\n",
    "# Compare the p-value with the significance level to make a decision\n",
    "if p_value.all() < alpha:\n",
    "    print(\"There is a significant difference in the click-through rates between Design A and Design B.\")\n",
    "else:\n",
    "    print(\"There is not enough evidence to suggest a significant difference in the click-through rates.\")\n",
    "\n",
    "# Print the calculated chi-square statistic and p-value\n",
    "print(\"Chi-square statistic:\", chi2_stat)\n",
    "print(\"p-value:\", p_value)\n"
   ]
  },
  {
   "cell_type": "markdown",
   "id": "f52c0947-a107-43a0-b7c7-f8eebbc80a0d",
   "metadata": {},
   "source": [
    "13. Scenario: A survey is conducted to measure customer satisfaction with a product on a scale of 1 to 10. The data collected is as follows:\n",
    "    [7, 9, 6, 8, 10, 7, 8, 9, 7, 8]\n",
    "    Calculate the 95% confidence interval for the population mean satisfaction score.\n"
   ]
  },
  {
   "cell_type": "code",
   "execution_count": 18,
   "id": "88774685-a68d-4bd9-8fad-d789494b39a6",
   "metadata": {},
   "outputs": [
    {
     "name": "stdout",
     "output_type": "stream",
     "text": [
      "95% Confidence Interval for the Population Mean Satisfaction Score: (7.043561120599888, 8.756438879400113)\n"
     ]
    }
   ],
   "source": [
    "import numpy as np\n",
    "from scipy import stats\n",
    "\n",
    "# Define the data\n",
    "satisfaction_scores = np.array([7, 9, 6, 8, 10, 7, 8, 9, 7, 8])\n",
    "\n",
    "# Calculate the sample mean and sample standard deviation\n",
    "sample_mean = np.mean(satisfaction_scores)\n",
    "sample_std = np.std(satisfaction_scores, ddof=1)\n",
    "\n",
    "# Define the significance level (alpha) and degrees of freedom (n-1)\n",
    "alpha = 0.05\n",
    "degrees_of_freedom = len(satisfaction_scores) - 1\n",
    "\n",
    "# Calculate the critical value (two-tailed t-distribution)\n",
    "critical_value = stats.t.ppf(1 - alpha / 2, degrees_of_freedom)\n",
    "\n",
    "# Calculate the margin of error\n",
    "margin_of_error = critical_value * (sample_std / np.sqrt(len(satisfaction_scores)))\n",
    "\n",
    "# Calculate the confidence interval\n",
    "confidence_interval = (sample_mean - margin_of_error, sample_mean + margin_of_error)\n",
    "\n",
    "# Print the confidence interval\n",
    "print(\"95% Confidence Interval for the Population Mean Satisfaction Score:\", confidence_interval)\n"
   ]
  },
  {
   "cell_type": "markdown",
   "id": "35375746-d46b-499b-bb21-2dc0e02b3611",
   "metadata": {},
   "source": [
    "14. Scenario: A company wants to analyze the effect of temperature on product performance. The data collected is as follows:\n",
    "    Temperature (in degrees Celsius): [20, 22, 23, 19, 21]\n",
    "    Performance (on a scale of 1 to 10): [8, 7, 9, 6, 8]\n",
    "    Perform a simple linear regression to predict performance based on temperature.\n"
   ]
  },
  {
   "cell_type": "code",
   "execution_count": 19,
   "id": "34d43163-1f47-4d29-b8e7-2aa108ad2213",
   "metadata": {},
   "outputs": [
    {
     "name": "stdout",
     "output_type": "stream",
     "text": [
      "Slope: 0.4999999999999999\n",
      "Intercept: -2.8999999999999986\n",
      "Predicted Job Satisfaction: -1.399999999999999\n"
     ]
    }
   ],
   "source": [
    "import numpy as np\n",
    "from sklearn.linear_model import LinearRegression\n",
    "\n",
    "# Define the data\n",
    "temperature = np.array([20, 22, 23, 19, 21]).reshape(-1, 1)\n",
    "performance = np.array([8, 7, 9, 6, 8])\n",
    "\n",
    "# Create a linear regression model\n",
    "model = LinearRegression()\n",
    "\n",
    "# Fit the model to the data\n",
    "model.fit(temperature, performance)\n",
    "\n",
    "# Get the coefficients (slope and intercept)\n",
    "slope = model.coef_[0]\n",
    "intercept = model.intercept_\n",
    "\n",
    "# Predict job satisfaction for a given tenure\n",
    "new_temp = np.array([3]).reshape(-1, 1)  # Example: Predict job satisfaction for a tenure of 3 years\n",
    "predicted_satisfaction = model.predict(new_temp)\n",
    "\n",
    "# Print the slope, intercept, and predicted job satisfaction\n",
    "print(\"Slope:\", slope)\n",
    "print(\"Intercept:\", intercept)\n",
    "print(\"Predicted Job Satisfaction:\", predicted_satisfaction[0])"
   ]
  },
  {
   "cell_type": "markdown",
   "id": "a5b4ce16-8fe4-4a90-9380-c932eb160d00",
   "metadata": {},
   "source": [
    "\n",
    "15. Scenario: A study is conducted to compare the preferences of two groups of participants. The preferences are measured on a Likert scale from 1 to 5. The data collected is as follows:\n",
    "    Group A: [4, 3, 5, 2, 4]\n",
    "    Group B: [3, 2, 4, 3, 3]\n",
    "    Perform a Mann-Whitney U test to determine if there is a significant difference in the median preferences between the two groups.\n"
   ]
  },
  {
   "cell_type": "code",
   "execution_count": 20,
   "id": "3a0b491a-e85e-4779-a519-7393d391cc79",
   "metadata": {},
   "outputs": [
    {
     "name": "stdout",
     "output_type": "stream",
     "text": [
      "There is not enough evidence to suggest a significant difference in the median preferences.\n",
      "Mann-Whitney U statistic: 17.0\n",
      "p-value: 0.380836480306712\n"
     ]
    }
   ],
   "source": [
    "import numpy as np\n",
    "from scipy.stats import mannwhitneyu\n",
    "\n",
    "# Define the data for each group\n",
    "group_a = np.array([4, 3, 5, 2, 4])\n",
    "group_b = np.array([3, 2, 4, 3, 3])\n",
    "\n",
    "# Perform the Mann-Whitney U test\n",
    "statistic, p_value = mannwhitneyu(group_a, group_b)\n",
    "\n",
    "# Define the significance level (alpha)\n",
    "alpha = 0.05\n",
    "\n",
    "# Compare the p-value with the significance level to make a decision\n",
    "if p_value < alpha:\n",
    "    print(\"There is a significant difference in the median preferences between Group A and Group B.\")\n",
    "else:\n",
    "    print(\"There is not enough evidence to suggest a significant difference in the median preferences.\")\n",
    "\n",
    "# Print the calculated test statistic and p-value\n",
    "print(\"Mann-Whitney U statistic:\", statistic)\n",
    "print(\"p-value:\", p_value)\n"
   ]
  },
  {
   "cell_type": "markdown",
   "id": "db9087c7-8db8-4ca4-b67f-71f205497686",
   "metadata": {},
   "source": [
    "16. Scenario: A company wants to analyze the distribution of customer ages. The data collected is as follows:\n",
    "    [25, 30, 35, 40, 45, 50, 55, 60, 65, 70]\n",
    "    Calculate the interquartile range (IQR) of the ages.\n"
   ]
  },
  {
   "cell_type": "code",
   "execution_count": 21,
   "id": "93890ce7-604e-4ff6-adf1-682c982eef58",
   "metadata": {},
   "outputs": [
    {
     "name": "stdout",
     "output_type": "stream",
     "text": [
      "Interquartile Range (IQR) of the Ages: 22.5\n"
     ]
    }
   ],
   "source": [
    "import numpy as np\n",
    "\n",
    "# Define the data\n",
    "ages = np.array([25, 30, 35, 40, 45, 50, 55, 60, 65, 70])\n",
    "\n",
    "# Calculate the first quartile (Q1)\n",
    "q1 = np.percentile(ages, 25)\n",
    "\n",
    "# Calculate the third quartile (Q3)\n",
    "q3 = np.percentile(ages, 75)\n",
    "\n",
    "# Calculate the interquartile range (IQR)\n",
    "iqr = q3 - q1\n",
    "\n",
    "# Print the interquartile range\n",
    "print(\"Interquartile Range (IQR) of the Ages:\", iqr)\n"
   ]
  },
  {
   "cell_type": "markdown",
   "id": "3447be46-1a3c-4b71-b12e-54ed59ff00c2",
   "metadata": {},
   "source": [
    "17. Scenario: A study is conducted to compare the performance of three different machine learning algorithms. The accuracy scores for each algorithm are as follows:\n",
    "    \n",
    "    Algorithm A: [0.85, 0.80, 0.82, 0.87, 0.83]\n",
    "    \n",
    "    Algorithm B: [0.78, 0.82, 0.84, 0.80, 0.79]\n",
    "    \n",
    "    Algorithm C: [0.90, 0.88, 0.89, 0.86, 0.87]\n",
    "    \n",
    "    Perform a Kruskal-Wallis test to determine if there is a significant difference in the median accuracy scores between the algorithms.\n"
   ]
  },
  {
   "cell_type": "code",
   "execution_count": 23,
   "id": "ca940795-b03b-4ddb-9684-3225f8390adb",
   "metadata": {},
   "outputs": [
    {
     "name": "stdout",
     "output_type": "stream",
     "text": [
      "There is a significant difference in the median accuracy scores between the algorithms.\n",
      "Kruskal-Wallis statistic: 9.696947935368053\n",
      "p-value: 0.007840333026249539\n"
     ]
    }
   ],
   "source": [
    "import numpy as np\n",
    "from scipy.stats import kruskal\n",
    "\n",
    "# Define the data for each algorithm\n",
    "algorithm_a = np.array([0.85, 0.80, 0.82, 0.87, 0.83])\n",
    "algorithm_b = np.array([0.78, 0.82, 0.84, 0.80, 0.79])\n",
    "algorithm_c = np.array([0.90, 0.88, 0.89, 0.86, 0.87])\n",
    "\n",
    "# Perform the Kruskal-Wallis test\n",
    "statistic, p_value = kruskal(algorithm_a, algorithm_b, algorithm_c)\n",
    "\n",
    "# Define the significance level (alpha)\n",
    "alpha = 0.05\n",
    "\n",
    "# Compare the p-value with the significance level to make a decision\n",
    "if p_value < alpha:\n",
    "    print(\"There is a significant difference in the median accuracy scores between the algorithms.\")\n",
    "else:\n",
    "    print(\"There is not enough evidence to suggest a significant difference in the median accuracy scores.\")\n",
    "\n",
    "# Print the calculated test statistic and p-value\n",
    "print(\"Kruskal-Wallis statistic:\", statistic)\n",
    "print(\"p-value:\", p_value)\n"
   ]
  },
  {
   "cell_type": "markdown",
   "id": "21249500-dbe8-4aaf-927d-bdde7f21ce19",
   "metadata": {},
   "source": [
    "18. Scenario: A company wants to analyze the effect of price on sales. The data collected is as follows:\n",
    "    Price (in dollars): [10, 15, 12, 8, 14]\n",
    "    Sales: [100, 80, 90, 110, 95]\n",
    "    Perform a simple linear regression to predict\n",
    "\n",
    " sales based on price.\n"
   ]
  },
  {
   "cell_type": "code",
   "execution_count": 24,
   "id": "a14e32d3-b2be-4c77-9ac5-c34b607528fa",
   "metadata": {},
   "outputs": [
    {
     "name": "stdout",
     "output_type": "stream",
     "text": [
      "Slope: -3.5060975609756095\n",
      "Intercept: 136.3719512195122\n",
      "Predicted Sales: [90.79268293]\n"
     ]
    }
   ],
   "source": [
    "import numpy as np\n",
    "from sklearn.linear_model import LinearRegression\n",
    "\n",
    "# Define the data\n",
    "price = np.array([10, 15, 12, 8, 14]).reshape(-1, 1)\n",
    "sales = np.array([100, 80, 90, 110, 95])\n",
    "\n",
    "# Create a linear regression model\n",
    "model = LinearRegression()\n",
    "\n",
    "# Fit the model to the data\n",
    "model.fit(price, sales)\n",
    "\n",
    "# Get the coefficients (slope and intercept)\n",
    "slope = model.coef_[0]\n",
    "intercept = model.intercept_\n",
    "\n",
    "# Predict sales for a given price\n",
    "new_price = np.array([13]).reshape(-1, 1)  # Example: Predict sales for a price of $13\n",
    "predicted_sales = model.predict(new_price)\n",
    "\n",
    "# Print the slope, intercept, and predicted sales\n",
    "print(\"Slope:\", slope)\n",
    "print(\"Intercept:\", intercept)\n",
    "print(\"Predicted Sales:\", predicted_sales)\n"
   ]
  },
  {
   "cell_type": "markdown",
   "id": "60d9a188-0c5f-4a4f-bee0-ffe8c0ddb7cd",
   "metadata": {},
   "source": [
    "19. Scenario: A survey is conducted to measure the satisfaction levels of customers with a new product. The data collected is as follows:\n",
    "    [7, 8, 9, 6, 8, 7, 9, 7, 8, 7]\n",
    "    Calculate the standard error of the mean satisfaction score.\n"
   ]
  },
  {
   "cell_type": "code",
   "execution_count": 25,
   "id": "96b5d087-2925-404e-af81-f9366e45650f",
   "metadata": {},
   "outputs": [
    {
     "name": "stdout",
     "output_type": "stream",
     "text": [
      "Standard Error of the Mean Satisfaction Score: 0.30550504633038933\n"
     ]
    }
   ],
   "source": [
    "import numpy as np\n",
    "\n",
    "# Define the data\n",
    "satisfaction_scores = np.array([7, 8, 9, 6, 8, 7, 9, 7, 8, 7])\n",
    "\n",
    "# Calculate the standard error of the mean\n",
    "standard_error = np.std(satisfaction_scores, ddof=1) / np.sqrt(len(satisfaction_scores))\n",
    "\n",
    "# Print the standard error of the mean\n",
    "print(\"Standard Error of the Mean Satisfaction Score:\", standard_error)\n"
   ]
  },
  {
   "cell_type": "markdown",
   "id": "71d02fb9-3e99-440f-bc53-67ea6aef87ea",
   "metadata": {},
   "source": [
    "20. Scenario: A company wants to analyze the relationship between advertising expenditure and sales. The data collected is as follows:\n",
    "    Advertising Expenditure (in thousands): [10, 15, 12, 8, 14]\n",
    "    Sales (in thousands): [25, 30, 28, 20, 26]\n",
    "    Perform a multiple regression analysis to predict sales based on advertising expenditure.\n"
   ]
  },
  {
   "cell_type": "code",
   "execution_count": 26,
   "id": "aab7fdb2-f999-4466-8a5a-66dbd5349255",
   "metadata": {},
   "outputs": [
    {
     "name": "stdout",
     "output_type": "stream",
     "text": [
      "Slope: 1.152439024390244\n",
      "Intercept: 12.20121951219512\n",
      "Predicted Sales: [27.18292683]\n"
     ]
    }
   ],
   "source": [
    "import numpy as np\n",
    "from sklearn.linear_model import LinearRegression\n",
    "\n",
    "# Define the data\n",
    "advertising_expenditure = np.array([10, 15, 12, 8, 14]).reshape(-1, 1)\n",
    "sales = np.array([25, 30, 28, 20, 26])\n",
    "\n",
    "# Create a linear regression model\n",
    "model = LinearRegression()\n",
    "\n",
    "# Fit the model to the data\n",
    "model.fit(advertising_expenditure, sales)\n",
    "\n",
    "# Get the coefficients (slope and intercept)\n",
    "slope = model.coef_[0]\n",
    "intercept = model.intercept_\n",
    "\n",
    "# Predict sales for a given advertising expenditure\n",
    "new_advertising_expenditure = np.array([13]).reshape(-1, 1)  # Example: Predict sales for an advertising expenditure of $13,000\n",
    "predicted_sales = model.predict(new_advertising_expenditure)\n",
    "\n",
    "# Print the slope, intercept, and predicted sales\n",
    "print(\"Slope:\", slope)\n",
    "print(\"Intercept:\", intercept)\n",
    "print(\"Predicted Sales:\", predicted_sales)\n"
   ]
  },
  {
   "cell_type": "code",
   "execution_count": null,
   "id": "0884e193-cd52-478a-8245-d82c9c6623a9",
   "metadata": {},
   "outputs": [],
   "source": []
  }
 ],
 "metadata": {
  "kernelspec": {
   "display_name": "Python 3 (ipykernel)",
   "language": "python",
   "name": "python3"
  },
  "language_info": {
   "codemirror_mode": {
    "name": "ipython",
    "version": 3
   },
   "file_extension": ".py",
   "mimetype": "text/x-python",
   "name": "python",
   "nbconvert_exporter": "python",
   "pygments_lexer": "ipython3",
   "version": "3.10.8"
  }
 },
 "nbformat": 4,
 "nbformat_minor": 5
}
