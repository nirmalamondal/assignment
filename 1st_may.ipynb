{
 "cells": [
  {
   "cell_type": "code",
   "execution_count": null,
   "id": "9692e344-8e53-4e77-b94e-9d59d530ac9e",
   "metadata": {},
   "outputs": [],
   "source": [
    "Q1. What is a contingency matrix, and how is it used to evaluate the performance of a classification model?\n",
    "'''\n",
    "Contingency matrix: Also known as a confusion matrix, it's a table that describes the performance of a classification model by comparing predicted \n",
    "classes against actual classes.\n",
    "Usage: Helps visualize true positives, true negatives, false positives, and false negatives, aiding in the assessment of a classifier's performance.\n",
    "'''\n",
    "Q2. How is a pair confusion matrix different from a regular confusion matrix, and why might it be useful in certain situations?\n",
    "'''\n",
    "Pair confusion matrix: Specifically used for evaluating multi-class classification problems by considering pairwise combinations of classes.\n",
    "Difference: Regular confusion matrix shows counts for all classes, while pair confusion matrix focuses on combinations of two classes, simplifying \n",
    "analysis in multi-class scenarios.\n",
    "'''\n",
    "Q3. What is an extrinsic measure in the context of natural language processing, and how is it typically used to evaluate the performance of language models?\n",
    "'''\n",
    "Extrinsic measure: It evaluates language models by considering their performance within a broader task or application, such as text classification,\n",
    "machine translation, or question answering.\n",
    "Usage: It measures how well the language model contributes to the overall task performance.\n",
    "'''\n",
    "Q4. What is an intrinsic measure in the context of machine learning, and how does it differ from an extrinsic measure?\n",
    "'''\n",
    "Intrinsic measure: Evaluates the performance of models based on their internal characteristics or capabilities, irrespective of their application or \n",
    "usage in a specific task. For instance, evaluating language models based on perplexity or BLEU score.\n",
    "Difference: Intrinsic measures focus on model-specific properties, while extrinsic measures consider performance in real-world tasks.\n",
    "'''\n",
    "Q5. What is the purpose of a confusion matrix in machine learning, and how can it be used to identify strengths and weaknesses of a model?\n",
    "'''\n",
    "Purpose: Provides insights into a classifier's performance by showing true positives, true negatives, false positives, and false negatives.\n",
    "Identification of strengths and weaknesses: Helps identify which classes the model performs well on (high true positives) and where it struggles\n",
    "(high false positives or false negatives).\n",
    "'''\n",
    "Q6. What are some common intrinsic measures used to evaluate the performance of unsupervised learning algorithms, and how can they be interpreted?\n",
    "'''\n",
    "Common intrinsic measures: Silhouette score for clustering, Dunn index, Davies-Bouldin index, etc.\n",
    "Interpretation: These metrics assess the quality of clusters formed by unsupervised learning algorithms. Higher silhouette scores or lower values in \n",
    "clustering indices indicate better-defined clusters.\n",
    "'''\n",
    "Q7. What are some limitations of using accuracy as a sole evaluation metric for classification tasks, and how can these limitations be addressed?\n",
    "'''\n",
    "Limitations of accuracy: Misleading in imbalanced datasets, does not distinguish between different types of errors (e.g., false positives vs. false \n",
    "negatives).\n",
    "Addressing limitations: Use additional metrics like precision, recall, F1-score, AUC-ROC, AUC-PR, or consider using cost-sensitive learning \n",
    "techniques in imbalanced datasets to address the limitations of accuracy.\n",
    "'''"
   ]
  }
 ],
 "metadata": {
  "kernelspec": {
   "display_name": "Python 3 (ipykernel)",
   "language": "python",
   "name": "python3"
  },
  "language_info": {
   "codemirror_mode": {
    "name": "ipython",
    "version": 3
   },
   "file_extension": ".py",
   "mimetype": "text/x-python",
   "name": "python",
   "nbconvert_exporter": "python",
   "pygments_lexer": "ipython3",
   "version": "3.10.8"
  }
 },
 "nbformat": 4,
 "nbformat_minor": 5
}
