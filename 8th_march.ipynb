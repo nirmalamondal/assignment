{
 "cells": [
  {
   "cell_type": "code",
   "execution_count": null,
   "id": "a5c67da3-3b72-460b-9486-79ede4ed8660",
   "metadata": {},
   "outputs": [],
   "source": [
    "Q1. What is the Probability density function?\n",
    "ans:'''A Probability Density Function (PDF) is a statistical concept used in probability theory to describe the likelihood of a continuous random \n",
    "variable taking on a particular value within a given range.'''\n",
    "Q2. What are the types of Probability distribution?\n",
    "ans: '''1.Discrete Probability Distributions: These distributions describe the probabilities of discrete random variables, which take on a countable\n",
    "number of distinct values.\n",
    "2.Continuous Probability Distributions: These distributions describe the probabilities of continuous random variables, which can take on any value \n",
    "within a specified range.\n",
    "Other important distributions include:\n",
    "3.Student's t-distribution: Used in hypothesis testing and confidence interval estimation.\n",
    "4.Chi-square Distribution: Often used in hypothesis testing and confidence interval estimation for the variance of a normally distributed population.\n",
    "5.F-distribution: Frequently used in the analysis of variance (ANOVA) and regression analysis.'''\n",
    "\n",
    "Q4. What are the properties of Binomial distribution? Give two examples of events where binomial distribution can be applied.\n",
    "'''The Binomial distribution is a discrete probability distribution that models the number of successes in a fixed number of independent Bernoulli\n",
    "trials.It has several key properties:\n",
    "Fixed Number of Trials: The trials are independent and repeated a fixed number of times.\n",
    "Two Possible Outcomes: Each trial results in one of two outcomes: success (usually denoted as \"1\") or failure (denoted as \"0\").\n",
    "Constant Probability of Success: The probability of success for each trial remains constant \n",
    "\n",
    "\n",
    "Two examples where the Binomial distribution can be applied are:\n",
    "1.Coin Flips\n",
    "2.Manufacturing Defects:'''\n",
    "\n",
    "\n",
    "Q7. How Binomial distribution different from Poisson distribution?\n",
    "'''\n",
    "1.Parameters: The Binomial distribution has two parameters, while the Poisson distribution has one parameter.\n",
    "2.Range of Values: The Binomial distribution deals with a fixed number of trials and has a finite range of values, whereas the Poisson distribution\n",
    "deals with events occurring in a continuous manner over an interval and has an infinite range of values.\n",
    "3.Assumptions: The Binomial distribution assumes a fixed number of trials, while the Poisson distribution assumes a constant rate of events occurring \n",
    "over time or space without a fixed number of trials.\n",
    "'''\n",
    "\n",
    "Q9. How mean and variance are related in Binomial distribution and Poisson distribution?\n",
    "'''\n",
    "Mean (μ) = n * p\n",
    "Variance = n*p*(1−p)\n",
    "In the Binomial distribution, both the mean and variance depend on the number of trials n and the probability of success p.\n",
    "The product of n and p gives the mean, while the variance also takes into account the probability of failure (1-p)\n",
    "\n",
    "\n",
    "In the Poisson distribution, the mean and variance are equal represented by lambda.\n",
    "'''\n",
    "Q10. In normal distribution with respect to mean position, where does the least frequent data appear?\n",
    "'''\n",
    "The least frequent data in a normal distribution are found at the tails, farthest away from the mean, while the highest concentration of data occurs\n",
    "around the mean, making it the most frequent value in the distribution.\n",
    "\n",
    "'''\n"
   ]
  },
  {
   "cell_type": "code",
   "execution_count": 1,
   "id": "8d78237e-4af7-4b30-84d0-f5fe589342b6",
   "metadata": {},
   "outputs": [
    {
     "name": "stdout",
     "output_type": "stream",
     "text": [
      "The PDF of the normal distribution at x = 1.5 is: 0.12951759566589174\n"
     ]
    }
   ],
   "source": [
    "'''Q3. Write a Python function to calculate the probability density function of a normal distribution with\n",
    "given mean and standard deviation at a given point.'''\n",
    "import math\n",
    "def normal_pdf(x, mean, std_dev):\n",
    "    exponent = -((x - mean) ** 2) / (2 * std_dev ** 2)\n",
    "    pdf_value = (1 / (math.sqrt(2 * math.pi) * std_dev)) * math.exp(exponent)\n",
    "    return pdf_value\n",
    "\n",
    "\n",
    "mean_value = 0  # Mean of the normal distribution\n",
    "std_deviation = 1  # Standard deviation of the normal distribution\n",
    "point = 1.5  # Point at which to calculate the PDF\n",
    "\n",
    "pdf_at_point = normal_pdf(point, mean_value, std_deviation)\n",
    "print(f\"The PDF of the normal distribution at x = {point} is: {pdf_at_point}\")\n"
   ]
  },
  {
   "cell_type": "code",
   "execution_count": 6,
   "id": "61630c76-42d9-4d0b-94b4-5473e735d1e8",
   "metadata": {},
   "outputs": [
    {
     "data": {
      "image/png": "[encoded data removed]",
      "text/plain": [
       "<Figure size 200x200 with 1 Axes>"
      ]
     },
     "metadata": {},
     "output_type": "display_data"
    }
   ],
   "source": [
    "'''Q5. Generate a random sample of size 1000 from a binomial distribution with probability of success 0.4 and plot a histogram of the results using \n",
    "matplotlib.'''\n",
    "import numpy as np\n",
    "import matplotlib.pyplot as plt\n",
    "\n",
    "probability_of_success = 0.4\n",
    "sample_size = 1000\n",
    "random_sample = np.random.binomial(1, probability_of_success, sample_size)\n",
    "plt.figure(figsize=(2, 2))\n",
    "plt.hist(random_sample, bins=2, color='skyblue', edgecolor='black', alpha=0.7)\n",
    "plt.title('Histogram of Random Sample from Binomial Distribution')\n",
    "plt.xlabel('Outcome')\n",
    "plt.ylabel('Frequency')\n",
    "plt.xticks([0, 1], ['Failure', 'Success']) \n",
    "plt.grid(axis='y') \n",
    "plt.show()\n"
   ]
  },
  {
   "cell_type": "code",
   "execution_count": 7,
   "id": "93452779-96fe-4643-861e-5791fdcce546",
   "metadata": {},
   "outputs": [
    {
     "name": "stdout",
     "output_type": "stream",
     "text": [
      "The CDF of the Poisson distribution at k = 2 is: 0.3208471988621341\n"
     ]
    }
   ],
   "source": [
    "'''Q6. Write a Python function to calculate the cumulative distribution function of a Poisson distribution with given mean at a given point.'''\n",
    "import math\n",
    "\n",
    "def poisson_cdf(k, mean):\n",
    "    cdf_value = 0\n",
    "    for i in range(k + 1):\n",
    "        cdf_value += (math.exp(-mean) * (mean ** i)) / math.factorial(i)\n",
    "    return cdf_value\n",
    "\n",
    "\n",
    "mean_value = 3.5  # Mean of the Poisson distribution\n",
    "point = 2  # Point at which to calculate the CDF\n",
    "\n",
    "cdf_at_point = poisson_cdf(point, mean_value)\n",
    "print(f\"The CDF of the Poisson distribution at k = {point} is: {cdf_at_point}\")\n"
   ]
  },
  {
   "cell_type": "code",
   "execution_count": 8,
   "id": "f920e785-8582-482c-9e8f-1ba65c6c1c57",
   "metadata": {},
   "outputs": [
    {
     "name": "stdout",
     "output_type": "stream",
     "text": [
      "Sample Mean: 4.941\n",
      "Sample Variance: 5.539519\n"
     ]
    }
   ],
   "source": [
    "'''Q8. Generate a random sample of size 1000 from a Poisson distribution with mean 5 and calculate the sample mean and variance.'''\n",
    "import numpy as np\n",
    "mean_poisson = 5\n",
    "sample_size = 1000\n",
    "random_sample = np.random.poisson(mean_poisson, sample_size)\n",
    "sample_mean = np.mean(random_sample)\n",
    "sample_variance = np.var(random_sample)\n",
    "print(f\"Sample Mean: {sample_mean}\")\n",
    "print(f\"Sample Variance: {sample_variance}\")\n"
   ]
  },
  {
   "cell_type": "code",
   "execution_count": null,
   "id": "eb701270-fdd3-42f7-a1dd-1aa6ac9c9e93",
   "metadata": {},
   "outputs": [],
   "source": []
  }
 ],
 "metadata": {
  "kernelspec": {
   "display_name": "Python 3 (ipykernel)",
   "language": "python",
   "name": "python3"
  },
  "language_info": {
   "codemirror_mode": {
    "name": "ipython",
    "version": 3
   },
   "file_extension": ".py",
   "mimetype": "text/x-python",
   "name": "python",
   "nbconvert_exporter": "python",
   "pygments_lexer": "ipython3",
   "version": "3.10.8"
  }
 },
 "nbformat": 4,
 "nbformat_minor": 5
}
