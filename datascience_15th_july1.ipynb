{
 "cells": [
  {
   "cell_type": "code",
   "execution_count": 1,
   "id": "87c985af-5179-4fa8-bcb1-19c0ae90d705",
   "metadata": {},
   "outputs": [
    {
     "name": "stdout",
     "output_type": "stream",
     "text": [
      "mean of A:  11.8\n",
      "mean of B:  20.2\n"
     ]
    }
   ],
   "source": [
    "\"\"\"\n",
    "1. Scenario: A company wants to analyze the sales performance of its products in different regions. They have collected the following data:\n",
    "   Region A: [10, 15, 12, 8, 14]\n",
    "   Region B: [18, 20, 16, 22, 25]\n",
    "   Calculate the mean sales for each region.\n",
    "\"\"\"\n",
    "import numpy as np\n",
    "\n",
    "A = [10, 15, 12, 8, 14]\n",
    "B = [18, 20, 16, 22, 25]\n",
    "\n",
    "print(\"mean of A: \",np.mean(A))\n",
    "print(\"mean of B: \",np.mean(B))"
   ]
  },
  {
   "cell_type": "code",
   "execution_count": 2,
   "id": "34004cf2-c929-4486-bc6c-552ddc7a0f84",
   "metadata": {},
   "outputs": [
    {
     "name": "stdout",
     "output_type": "stream",
     "text": [
      "Mode :  [4, 5]\n"
     ]
    }
   ],
   "source": [
    "\"\"\"\n",
    "2. Scenario: A survey is conducted to measure customer satisfaction on a scale of 1 to 5. The data collected is as follows:\n",
    "   [4, 5, 2, 3, 5, 4, 3, 2, 4, 5]\n",
    "   Calculate the mode of the survey responses.\n",
    "\"\"\"\n",
    "from statistics import multimode\n",
    "L =  [4, 5, 2, 3, 5, 4, 3, 2, 4, 5]\n",
    "print(\"Mode : \",multimode(L))"
   ]
  },
  {
   "cell_type": "code",
   "execution_count": 3,
   "id": "1a284210-867d-44ab-a0e9-f11f9a2383c6",
   "metadata": {},
   "outputs": [
    {
     "name": "stdout",
     "output_type": "stream",
     "text": [
      "median of A:  5750.0\n",
      "median of B:  5500.0\n"
     ]
    }
   ],
   "source": [
    "\"\"\"\n",
    "3. Scenario: A company wants to compare the salaries of two departments. The salary data for Department A and Department B are as follows:\n",
    "   Department A: [5000, 6000, 5500, 7000]\n",
    "   Department B: [4500, 5500, 5800, 6000, 5200]\n",
    "   Calculate the median salary for each department.\n",
    "\"\"\"\n",
    "import numpy as np\n",
    "Department_A =  [5000, 6000, 5500, 7000]\n",
    "Department_B =  [4500, 5500, 5800, 6000, 5200]\n",
    "print(\"median of A: \",np.median(Department_A))\n",
    "print(\"median of B: \",np.median(Department_B))"
   ]
  },
  {
   "cell_type": "code",
   "execution_count": 4,
   "id": "6bada4e7-f0dd-478a-ba91-cf006bab5d1e",
   "metadata": {},
   "outputs": [
    {
     "name": "stdout",
     "output_type": "stream",
     "text": [
      "Range : 24.8  to 26.1\n"
     ]
    }
   ],
   "source": [
    "\"\"\"\n",
    "4. Scenario: A data analyst wants to determine the variability in the daily stock prices of a company. The data collected is as follows:\n",
    "   [25.5, 24.8, 26.1, 25.3, 24.9]\n",
    "   Calculate the range of the stock prices.\n",
    "\"\"\"\n",
    "import numpy as np\n",
    "L1 = [25.5, 24.8, 26.1, 25.3, 24.9]\n",
    "minimum,maximum = np.quantile(L1,[0,1.0])\n",
    "print(\"Range :\", minimum, \" to\" , maximum)"
   ]
  },
  {
   "cell_type": "code",
   "execution_count": 5,
   "id": "914984b8-4075-419e-a2d3-76faf8a11a0f",
   "metadata": {},
   "outputs": [
    {
     "name": "stdout",
     "output_type": "stream",
     "text": [
      "mean_group_a, median_group_a, std_dev_group_a:  89.2 90.0 2.4819347291981715\n",
      "mean_group_b, median_group_b, std_dev_group_b 86.6 87.0 2.6532998322843198\n"
     ]
    }
   ],
   "source": [
    "\"\"\"\n",
    "5. Scenario: A study is conducted to compare the performance of two different teaching methods. The test scores of the students in each group are as \n",
    "follows:\n",
    "   Group A: [85, 90, 92, 88, 91]\n",
    "   Group B: [82, 88, 90, 86, 87]\n",
    "   Perform a t-test to determine if there is a significant difference in the mean scores between the two groups.\n",
    "\"\"\"\n",
    "import numpy as np\n",
    "\n",
    "group_a_scores = [85, 90, 92, 88, 91]\n",
    "group_b_scores = [82, 88, 90, 86, 87]\n",
    "\n",
    "mean_group_a = np.mean(group_a_scores)\n",
    "mean_group_b = np.mean(group_b_scores)\n",
    "\n",
    "median_group_a = np.median(group_a_scores)\n",
    "median_group_b = np.median(group_b_scores)\n",
    "\n",
    "std_dev_group_a = np.std(group_a_scores)\n",
    "std_dev_group_b = np.std(group_b_scores)\n",
    "print(\"mean_group_a, median_group_a, std_dev_group_a: \",mean_group_a, median_group_a, std_dev_group_a)\n",
    "print(\"mean_group_b, median_group_b, std_dev_group_b\",mean_group_b, median_group_b, std_dev_group_b)"
   ]
  },
  {
   "cell_type": "code",
   "execution_count": 6,
   "id": "d05d67d2-1bb3-4359-a3b0-7fddec54c78f",
   "metadata": {},
   "outputs": [
    {
     "name": "stdout",
     "output_type": "stream",
     "text": [
      "             Advertising     Sales\n",
      "Advertising     1.000000  0.875751\n",
      "Sales           0.875751  1.000000\n"
     ]
    }
   ],
   "source": [
    "\"\"\"\n",
    "6. Scenario: A company wants to analyze the relationship between advertising expenditure and sales. The data collected is as follows:\n",
    "   Advertising Expenditure (in thousands): [10, 15, 12, 8, 14]\n",
    "   Sales (in thousands): [25, 30, 28, 20, 26]\n",
    "   Calculate the correlation coefficient between advertising expenditure and sales.\n",
    "\"\"\"\n",
    "import pandas as pd\n",
    "Advertising =  [10, 15, 12, 8, 14]\n",
    "Sales = [25, 30, 28, 20, 26]\n",
    "df = pd.DataFrame({'Advertising':  [10, 15, 12, 8, 14],\n",
    "                    'Sales' : [25, 30, 28, 20, 26]})\n",
    "print(df.corr())"
   ]
  },
  {
   "cell_type": "code",
   "execution_count": 7,
   "id": "7452b5c9-7aae-4d67-8b2b-074cc6c50673",
   "metadata": {},
   "outputs": [
    {
     "name": "stdout",
     "output_type": "stream",
     "text": [
      "Standard Deviation is :  7.953949089757174\n"
     ]
    }
   ],
   "source": [
    "\"\"\"7. Scenario: A survey is conducted to measure the heights of a group of people. The data collected is as follows:\n",
    "   [160, 170, 165, 155, 175, 180, 170]\n",
    "   Calculate the standard deviation of the heights.\n",
    "\"\"\"\n",
    "import numpy as np\n",
    "L3 =  [160, 170, 165, 155, 175, 180, 170]\n",
    "print(\"Standard Deviation is : \",np.std(L3))\n"
   ]
  },
  {
   "cell_type": "code",
   "execution_count": 8,
   "id": "83d11695-53f5-461f-9041-67e373dcb6e7",
   "metadata": {},
   "outputs": [
    {
     "name": "stdout",
     "output_type": "stream",
     "text": [
      "Coefficients:  [-0.46808511]\n",
      "Intercept:  8.595744680851062\n",
      "Predicted Job Satisfaction:  [7.19148936 6.72340426 5.31914894]\n"
     ]
    }
   ],
   "source": [
    "\"\"\"\n",
    "8. Scenario: A company wants to analyze the relationship between employee tenure and job satisfaction. The data collected is as follows:\n",
    "   Employee Tenure (in years): [2, 3, 5, 4, 6, 2, 4]\n",
    "   Job Satisfaction (on a scale of 1 to 10): [7, 8, 6, 9, 5, 7, 6]\n",
    "   Perform a linear regression analysis to predict job satisfaction based on employee tenure.\n",
    "\"\"\"\n",
    "import numpy as np\n",
    "from sklearn.linear_model import LinearRegression\n",
    "\n",
    "employee_tenure = np.array([2, 3, 5, 4, 6, 2, 4]).reshape(-1, 1)\n",
    "job_satisfaction = np.array([7, 8, 6, 9, 5, 7, 6])\n",
    "\n",
    "regression_model = LinearRegression()\n",
    "regression_model.fit(employee_tenure, job_satisfaction)\n",
    "\n",
    "new_tenures = np.array([3, 4, 7]).reshape(-1, 1)\n",
    "predicted_satisfaction = regression_model.predict(new_tenures)\n",
    "\n",
    "print(\"Coefficients: \", regression_model.coef_)\n",
    "print(\"Intercept: \", regression_model.intercept_)\n",
    "print(\"Predicted Job Satisfaction: \", predicted_satisfaction)\n"
   ]
  },
  {
   "cell_type": "code",
   "execution_count": 9,
   "id": "3ee585cc-5623-47c1-b4b4-fab698b785ff",
   "metadata": {},
   "outputs": [
    {
     "name": "stdout",
     "output_type": "stream",
     "text": [
      "f_statistic:  16.0 , p_value:  0.003949772803445326\n"
     ]
    }
   ],
   "source": [
    "\"\"\"\n",
    "9. Scenario: A study is conducted to compare the effectiveness of two different medications. The recovery times of the patients in each group are as follows:\n",
    "   Medication A: [10, 12, 14, 11, 13]\n",
    "   Medication B: [15, 17, 16, 14, 18]\n",
    "   Perform an analysis of variance (ANOVA) to determine if there is a significant difference in the mean recovery times between the two medications.\n",
    "\"\"\"\n",
    "from scipy.stats import f_oneway\n",
    "\n",
    "medication_a_recovery_times = [10, 12, 14, 11, 13]\n",
    "medication_b_recovery_times = [15, 17, 16, 14, 18]\n",
    "\n",
    "f_statistic, p_value = f_oneway(medication_a_recovery_times, medication_b_recovery_times)\n",
    "\n",
    "print(\"f_statistic: \",f_statistic,', p_value: ',p_value)\n"
   ]
  },
  {
   "cell_type": "code",
   "execution_count": 10,
   "id": "1b3dc68e-67ba-4b9e-9e3f-b3396299dbc8",
   "metadata": {},
   "outputs": [
    {
     "name": "stdout",
     "output_type": "stream",
     "text": [
      "[8.75]\n"
     ]
    }
   ],
   "source": [
    "\"\"\"\n",
    "10. Scenario: A company wants to analyze customer feedback ratings on a scale of 1 to 10. The data collected is\n",
    "\n",
    " as follows:\n",
    "    [8, 9, 7, 6, 8, 10, 9, 8, 7, 8]\n",
    "    Calculate the 75th percentile of the feedback ratings.\n",
    "\"\"\"\n",
    "\n",
    "\n",
    "ratings = [8, 9, 7, 6, 8, 10, 9, 8, 7, 8]\n",
    "Q3 = np.quantile(ratings,[.75])\n",
    "print(Q3)"
   ]
  },
  {
   "cell_type": "code",
   "execution_count": 11,
   "id": "3699c4ad-8642-4ce1-9fd2-f81800e99c1b",
   "metadata": {},
   "outputs": [
    {
     "name": "stdout",
     "output_type": "stream",
     "text": [
      "t_statistic:  1.5126584522688367 , p_value:  0.19077595151110102\n"
     ]
    }
   ],
   "source": [
    "\"\"\"\n",
    "11. Scenario: A quality control department wants to test the weight consistency of a product. The weights of a sample of products are as follows:\n",
    "    [10.2, 9.8, 10.0, 10.5, 10.3, 10.1]\n",
    "    Perform a hypothesis test to determine if the mean weight differs significantly from 10 grams.\n",
    "\"\"\"\n",
    "from scipy.stats import ttest_1samp\n",
    "weights = [10.2, 9.8, 10.0, 10.5, 10.3, 10.1]\n",
    "null_hypothesis = 10 \n",
    "t_statistic, p_value = ttest_1samp(weights, null_hypothesis)\n",
    "print('t_statistic: ',t_statistic, ', p_value: ', p_value)\n"
   ]
  },
  {
   "cell_type": "code",
   "execution_count": 12,
   "id": "ea996b93-f652-49fb-866b-c5419507001e",
   "metadata": {},
   "outputs": [
    {
     "data": {
      "text/plain": [
       "'\\n12. Scenario: A company wants to analyze the click-through rates of two different website designs. The number of clicks for each design is as follows:\\n    Design A: [100, 120, 110, 90, 95]\\n    Design B: [80, 85, 90, 95, 100]\\n    Perform a chi-square test to determine if there is a significant difference in the click-through rates between the two designs.\\n'"
      ]
     },
     "execution_count": 12,
     "metadata": {},
     "output_type": "execute_result"
    }
   ],
   "source": [
    "\"\"\"\n",
    "12. Scenario: A company wants to analyze the click-through rates of two different website designs. The number of clicks for each design is as follows:\n",
    "    Design A: [100, 120, 110, 90, 95]\n",
    "    Design B: [80, 85, 90, 95, 100]\n",
    "    Perform a chi-square test to determine if there is a significant difference in the click-through rates between the two designs.\n",
    "\"\"\""
   ]
  },
  {
   "cell_type": "code",
   "execution_count": 13,
   "id": "4bf1d44e-c96c-480d-903b-295a81aa0497",
   "metadata": {},
   "outputs": [
    {
     "name": "stdout",
     "output_type": "stream",
     "text": [
      "confidence_interval:  (7.043561120599888, 8.756438879400113)\n"
     ]
    }
   ],
   "source": [
    "\"\"\"\n",
    "13. Scenario: A survey is conducted to measure customer satisfaction with a product on a scale of 1 to 10. The data collected is as follows:\n",
    "    [7, 9, 6, 8, 10, 7, 8, 9, 7, 8]\n",
    "    Calculate the 95% confidence interval for the population mean satisfaction score.\n",
    "\n",
    "\"\"\"\n",
    "import numpy as np\n",
    "from scipy.stats import t\n",
    "satisfaction_scores = [7, 9, 6, 8, 10, 7, 8, 9, 7, 8]\n",
    "confidence_level = 0.95 \n",
    "\n",
    "sample_mean = np.mean(satisfaction_scores)\n",
    "sample_std = np.std(satisfaction_scores, ddof=1)  \n",
    "sample_size = len(satisfaction_scores)\n",
    "critical_value = t.ppf((1 + confidence_level) / 2, df=sample_size - 1)\n",
    "standard_error = sample_std / np.sqrt(sample_size)\n",
    "\n",
    "margin_of_error = critical_value * standard_error\n",
    "confidence_interval = (sample_mean - margin_of_error, sample_mean + margin_of_error)\n",
    "\n",
    "print('confidence_interval: ',confidence_interval)\n"
   ]
  },
  {
   "cell_type": "code",
   "execution_count": 14,
   "id": "f2d59d39-cade-4555-9bad-166154e06c56",
   "metadata": {},
   "outputs": [
    {
     "name": "stdout",
     "output_type": "stream",
     "text": [
      "slope:  0.5 intercept:  -2.9000000000000004  r_value:  0.6933752452815364  p_value 0.19417134561205843 std_err 0.30000000000000004\n"
     ]
    }
   ],
   "source": [
    "\"\"\"\n",
    "14. Scenario: A company wants to analyze the effect of temperature on product performance. The data collected is as follows:\n",
    "    Temperature (in degrees Celsius): [20, 22, 23, 19, 21]\n",
    "    Performance (on a scale of 1 to 10): [8, 7, 9, 6, 8]\n",
    "    Perform a simple linear regression to predict performance based on temperature.\n",
    "\"\"\"\n",
    "import numpy as np\n",
    "from scipy.stats import linregress\n",
    "\n",
    "temperature = np.array([20, 22, 23, 19, 21])\n",
    "performance = np.array([8, 7, 9, 6, 8])\n",
    "\n",
    "slope, intercept, r_value, p_value, std_err = linregress(temperature, performance)\n",
    "\n",
    "print('slope: ',slope,'intercept: ',intercept,' r_value: ', r_value,' p_value',p_value,'std_err', std_err)\n"
   ]
  },
  {
   "cell_type": "code",
   "execution_count": 15,
   "id": "54d3de61-562d-40c5-ba8f-0db038022247",
   "metadata": {},
   "outputs": [
    {
     "name": "stdout",
     "output_type": "stream",
     "text": [
      "statistic:  17.0 p_value:  0.380836480306712\n"
     ]
    }
   ],
   "source": [
    "\"\"\"\n",
    "15. Scenario: A study is conducted to compare the preferences of two groups of participants. The preferences are measured on a Likert scale from 1 to 5. The data collected is as follows:\n",
    "    Group A: [4, 3, 5, 2, 4]\n",
    "    Group B: [3, 2, 4, 3, 3]\n",
    "    Perform a Mann-Whitney U test to determine if there is a significant difference in the median preferences between the two groups.\n",
    "    \n",
    "\"\"\"\n",
    "from scipy.stats import mannwhitneyu\n",
    "group_a_preferences = [4, 3, 5, 2, 4]\n",
    "group_b_preferences = [3, 2, 4, 3, 3]\n",
    "statistic, p_value = mannwhitneyu(group_a_preferences, group_b_preferences, alternative='two-sided')\n",
    "print('statistic: ',statistic,'p_value: ',p_value)\n"
   ]
  },
  {
   "cell_type": "code",
   "execution_count": 16,
   "id": "81649cfe-1d9b-4e43-94e6-f869113f6201",
   "metadata": {},
   "outputs": [
    {
     "name": "stdout",
     "output_type": "stream",
     "text": [
      "IQR:  22.5\n"
     ]
    }
   ],
   "source": [
    "\"\"\"\n",
    "16. Scenario: A company wants to analyze the distribution of customer ages. The data collected is as follows:\n",
    "    [25, 30, 35, 40, 45, 50, 55, 60, 65, 70]\n",
    "    Calculate the interquartile range (IQR) of the ages.\n",
    "\"\"\"\n",
    "import numpy as np\n",
    "\n",
    "ages = np.array([25, 30, 35, 40, 45, 50, 55, 60, 65, 70])\n",
    "q1 = np.percentile(ages, 25)\n",
    "q3 = np.percentile(ages, 75)\n",
    "iqr = q3 - q1\n",
    "print('IQR: ',iqr)\n"
   ]
  },
  {
   "cell_type": "code",
   "execution_count": 17,
   "id": "1b2770d2-cbc8-494b-b8c5-3b95d9e02bdc",
   "metadata": {},
   "outputs": [
    {
     "name": "stdout",
     "output_type": "stream",
     "text": [
      "statistic:  9.696947935368053 , p_value:  0.007840333026249539\n"
     ]
    }
   ],
   "source": [
    "\"\"\"\n",
    "17. Scenario: A study is conducted to compare the performance of three different machine learning algorithms. The accuracy scores for each algorithm \n",
    "   are as follows:\n",
    "    Algorithm A: [0.85, 0.80, 0.82, 0.87, 0.83]\n",
    "    Algorithm B: [0.78, 0.82, 0.84, 0.80, 0.79]\n",
    "    Algorithm C: [0.90, 0.88, 0.89, 0.86, 0.87]\n",
    "    Perform a Kruskal-Wallis test to determine if there is a significant difference in the median accuracy scores between the algorithms.\n",
    "\"\"\"\n",
    "from scipy.stats import kruskal\n",
    "algorithm_a_scores = [0.85, 0.80, 0.82, 0.87, 0.83]\n",
    "algorithm_b_scores = [0.78, 0.82, 0.84, 0.80, 0.79]\n",
    "algorithm_c_scores = [0.90, 0.88, 0.89, 0.86, 0.87]\n",
    "statistic, p_value = kruskal(algorithm_a_scores, algorithm_b_scores, algorithm_c_scores)\n",
    "\n",
    "print(\"statistic: \",statistic,', p_value: ',p_value)\n",
    "\n"
   ]
  },
  {
   "cell_type": "code",
   "execution_count": 18,
   "id": "fa9b5baf-c78e-4a2d-a28a-94bfdbbf3d4f",
   "metadata": {},
   "outputs": [
    {
     "name": "stdout",
     "output_type": "stream",
     "text": [
      "slope:  -3.506097560975609 intercept:  136.3719512195122  r_value:  -0.8979991308594848  p_value 0.03850178234753776 std_err 0.9918303504036147\n"
     ]
    }
   ],
   "source": [
    "\"\"\"\n",
    "18. Scenario: A company wants to analyze the effect of price on sales. The data collected is as follows:\n",
    "    Price (in dollars): [10, 15, 12, 8, 14]\n",
    "    Sales: [100, 80, 90, 110, 95]\n",
    "    Perform a simple linear regression to predict sales based on price.\n",
    "\"\"\"\n",
    "import numpy as np\n",
    "from scipy.stats import linregress\n",
    "price = np.array([10, 15, 12, 8, 14])\n",
    "sales = np.array([100, 80, 90, 110, 95])\n",
    "slope, intercept, r_value, p_value, std_err = linregress(price, sales)\n",
    "print('slope: ',slope,'intercept: ',intercept,' r_value: ', r_value,' p_value',p_value,'std_err', std_err)\n",
    "\n"
   ]
  },
  {
   "cell_type": "code",
   "execution_count": 19,
   "id": "ce172ced-95f7-4d56-8013-d97728cda8fb",
   "metadata": {},
   "outputs": [
    {
     "name": "stdout",
     "output_type": "stream",
     "text": [
      "standard_error 0.30550504633038933\n"
     ]
    }
   ],
   "source": [
    "\"\"\"\n",
    "19. Scenario: A survey is conducted to measure the satisfaction levels of customers with a new product. The data collected is as follows:\n",
    "    [7, 8, 9, 6, 8, 7, 9, 7, 8, 7]\n",
    "    Calculate the standard error of the mean satisfaction score.\n",
    "\"\"\"\n",
    "import numpy as np\n",
    "satisfaction_scores = np.array([7, 8, 9, 6, 8, 7, 9, 7, 8, 7])\n",
    "sample_size = len(satisfaction_scores)\n",
    "standard_error = np.std(satisfaction_scores, ddof=1) / np.sqrt(sample_size)\n",
    "print('standard_error',standard_error)\n"
   ]
  },
  {
   "cell_type": "code",
   "execution_count": 20,
   "id": "286319e4-b18f-404e-abc5-649515c9036f",
   "metadata": {},
   "outputs": [
    {
     "name": "stdout",
     "output_type": "stream",
     "text": [
      "coefficients:  [12.20121951  1.15243902] r_squared:  0.7669400549639301\n"
     ]
    }
   ],
   "source": [
    "\"\"\"\n",
    "20. Scenario: A company wants to analyze the relationship between advertising expenditure and sales. The data collected is as follows:\n",
    "    Advertising Expenditure (in thousands): [10, 15, 12, 8, 14]\n",
    "    Sales (in thousands): [25, 30, 28, 20, 26]\n",
    "    Perform a multiple regression analysis to predict sales based on advertising expenditure.\n",
    "\"\"\"\n",
    "import numpy as np\n",
    "import statsmodels.api as sm\n",
    "advertising_expenditure = np.array([10, 15, 12, 8, 14])\n",
    "sales = np.array([25, 30, 28, 20, 26])\n",
    "X = sm.add_constant(advertising_expenditure)\n",
    "model = sm.OLS(sales, X)\n",
    "results = model.fit()\n",
    "coefficients = results.params\n",
    "r_squared = results.rsquared\n",
    "print('coefficients: ',coefficients,'r_squared: ',r_squared)\n"
   ]
  },
  {
   "cell_type": "code",
   "execution_count": null,
   "id": "782980f2-e8c5-4fc1-b23f-127d2adebd75",
   "metadata": {},
   "outputs": [],
   "source": []
  },
  {
   "cell_type": "code",
   "execution_count": null,
   "id": "3dea1efd-55df-4a64-b080-c92985f6f455",
   "metadata": {},
   "outputs": [],
   "source": []
  }
 ],
 "metadata": {
  "kernelspec": {
   "display_name": "Python 3 (ipykernel)",
   "language": "python",
   "name": "python3"
  },
  "language_info": {
   "codemirror_mode": {
    "name": "ipython",
    "version": 3
   },
   "file_extension": ".py",
   "mimetype": "text/x-python",
   "name": "python",
   "nbconvert_exporter": "python",
   "pygments_lexer": "ipython3",
   "version": "3.10.8"
  }
 },
 "nbformat": 4,
 "nbformat_minor": 5
}
