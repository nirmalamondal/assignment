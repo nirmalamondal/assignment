{
 "cells": [
  {
   "cell_type": "code",
   "execution_count": null,
   "id": "7fcfb30a-986c-4801-bceb-dfc13cadff0a",
   "metadata": {},
   "outputs": [],
   "source": [
    "Q1. What is hierarchical clustering, and how is it different from other clustering techniques?\n",
    "'''\n",
    "Hierarchical clustering is an unsupervised clustering algorithm that groups similar items into clusters. It creates a tree of clusters, known as a \n",
    "dendrogram, where each data point is initially considered as a single cluster. The algorithm then merges or divides clusters based on their similarity\n",
    "until all the data points belong to one cluster.\n",
    "\n",
    "Difference from other clustering techniques:\n",
    "Hierarchical clustering does not require a pre-specified number of clusters. It generates a hierarchy of clusters, allowing users to choose the number\n",
    "of clusters after observing the dendrogram.\n",
    "'''\n",
    "Q2. What are the two main types of hierarchical clustering algorithms? Describe each in brief.\n",
    "'''\n",
    "Agglomerative Hierarchical Clustering: It starts with each data point as a separate cluster and merges the most similar clusters iteratively until all\n",
    "data points belong to a single cluster. It uses linkage criteria (e.g., single, complete, average) to measure cluster similarity.\n",
    "\n",
    "Divisive Hierarchical Clustering: It starts with all data points in one cluster and recursively divides them into smaller clusters based on their\n",
    "dissimilarity until each data point forms its own cluster. This method is less common due to its computational complexity.\n",
    "'''\n",
    "Q3. How do you determine the distance between two clusters in hierarchical clustering, and what are the\n",
    "common distance metrics used?\n",
    "'''\n",
    "Distance between clusters: Commonly used methods are:\n",
    "Single linkage: Minimum distance between points in different clusters.\n",
    "Complete linkage: Maximum distance between points in different clusters.\n",
    "Average linkage: Average distance between all pairs of points in different clusters.\n",
    "Centroid linkage: Distance between centroids of clusters.\n",
    "Distance metrics: Euclidean distance, Manhattan distance, cosine similarity, etc., are often used depending on the nature of the data.\n",
    "'''\n",
    "Q4. How do you determine the optimal number of clusters in hierarchical clustering, and what are some\n",
    "common methods used for this purpose?\n",
    "'''\n",
    "Optimal number of clusters: Identified using dendrograms.\n",
    "Methods: Elbow method, silhouette score, gap statistic, analyzing cluster sizes, and business/domain knowledge.\n",
    "'''\n",
    "Q5. What are dendrograms in hierarchical clustering, and how are they useful in analyzing the results?\n",
    "'''\n",
    "Tree-like diagrams that show the hierarchical relationship between clusters. They visualize the clustering process and can help determine the optimal\n",
    "number of clusters by observing the heights where branches merge in the dendrogram.\n",
    "'''\n",
    "Q6. Can hierarchical clustering be used for both numerical and categorical data? If yes, how are the\n",
    "distance metrics different for each type of data?\n",
    "'''\n",
    "Yes, hierarchical clustering can handle both numerical and categorical data.\n",
    "Numerical data: Common distance metrics like Euclidean, Manhattan, etc., are used.\n",
    "Categorical data: Specialized metrics like Gower's distance, Jaccard distance, etc., are used to handle categorical variables.\n",
    "'''\n",
    "Q7. How can you use hierarchical clustering to identify outliers or anomalies in your data?\n",
    "'''\n",
    "Outliers identification: Outliers can be detected by observing single-point clusters in the dendrogram. Data points that form clusters at higher\n",
    "levels or are separate from other clusters can be considered potential outliers or anomalies.\n",
    "'''"
   ]
  }
 ],
 "metadata": {
  "kernelspec": {
   "display_name": "Python 3 (ipykernel)",
   "language": "python",
   "name": "python3"
  },
  "language_info": {
   "codemirror_mode": {
    "name": "ipython",
    "version": 3
   },
   "file_extension": ".py",
   "mimetype": "text/x-python",
   "name": "python",
   "nbconvert_exporter": "python",
   "pygments_lexer": "ipython3",
   "version": "3.10.8"
  }
 },
 "nbformat": 4,
 "nbformat_minor": 5
}
